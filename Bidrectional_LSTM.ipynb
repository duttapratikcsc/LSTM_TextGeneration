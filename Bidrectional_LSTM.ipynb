{
  "nbformat": 4,
  "nbformat_minor": 0,
  "metadata": {
    "colab": {
      "name": "LSTM.ipynb",
      "provenance": [],
      "collapsed_sections": [],
      "toc_visible": true,
      "include_colab_link": true
    },
    "kernelspec": {
      "name": "python3",
      "display_name": "Python 3"
    }
  },
  "cells": [
    {
      "cell_type": "markdown",
      "metadata": {
        "id": "view-in-github",
        "colab_type": "text"
      },
      "source": [
        "<a href=\"https://colab.research.google.com/github/duttapratikcsc/LSTM_TextGeneration/blob/master/LSTM.ipynb\" target=\"_parent\"><img src=\"https://colab.research.google.com/assets/colab-badge.svg\" alt=\"Open In Colab\"/></a>"
      ]
    },
    {
      "cell_type": "code",
      "metadata": {
        "id": "4cVv305IpFOm",
        "colab_type": "code",
        "outputId": "e47326a4-ccb7-4de6-c87d-139960c30ee1",
        "colab": {
          "base_uri": "https://localhost:8080/",
          "height": 117
        }
      },
      "source": [
        "import sys\n",
        "import numpy as np\n",
        "from tensorflow import keras\n",
        "from keras.models import Sequential\n",
        "from keras.layers import Dense\n",
        "from keras.layers import Dropout\n",
        "from keras.layers import LSTM\n",
        "# from keras.callbacks import ModelCheckpoint\n",
        "from keras.utils import np_utils\n",
        "from random import random\n",
        "try:\n",
        "  # %tensorflow_version only exists in Colab.\n",
        "  %tensorflow_version 2.x\n",
        "except Exception:\n",
        "  pass\n",
        "import tensorflow as tf\n",
        "\n",
        "import pandas as pd\n",
        "import numpy as np\n",
        "import matplotlib.pyplot as plt\n",
        "from sklearn.model_selection import train_test_split"
      ],
      "execution_count": 2,
      "outputs": [
        {
          "output_type": "display_data",
          "data": {
            "text/html": [
              "<p style=\"color: red;\">\n",
              "The default version of TensorFlow in Colab will soon switch to TensorFlow 2.x.<br>\n",
              "We recommend you <a href=\"https://www.tensorflow.org/guide/migrate\" target=\"_blank\">upgrade</a> now \n",
              "or ensure your notebook will continue to use TensorFlow 1.x via the <code>%tensorflow_version 1.x</code> magic:\n",
              "<a href=\"https://colab.research.google.com/notebooks/tensorflow_version.ipynb\" target=\"_blank\">more info</a>.</p>\n"
            ],
            "text/plain": [
              "<IPython.core.display.HTML object>"
            ]
          },
          "metadata": {
            "tags": []
          }
        },
        {
          "output_type": "stream",
          "text": [
            "Using TensorFlow backend.\n"
          ],
          "name": "stderr"
        },
        {
          "output_type": "stream",
          "text": [
            "TensorFlow is already loaded. Please restart the runtime to change versions.\n"
          ],
          "name": "stdout"
        }
      ]
    },
    {
      "cell_type": "code",
      "metadata": {
        "id": "abejn2bUpN6T",
        "colab_type": "code",
        "colab": {}
      },
      "source": [
        "def get_Word(fp):\n",
        "    word = []\n",
        "    raw_text = open(fp).read().lower()\n",
        "    raw_text = raw_text.split(\"\\n\")\n",
        "    for row in raw_text:\n",
        "        temp = row.split(\" \")\n",
        "        for i in range(len(temp)):\n",
        "            word.append(temp[i])\n",
        "    word.append(\"\\n\")\n",
        "    print(\"Length of total word_list:-\", len(word))\n",
        "    return(word)"
      ],
      "execution_count": 0,
      "outputs": []
    },
    {
      "cell_type": "code",
      "metadata": {
        "id": "dGgwVNez_hKy",
        "colab_type": "code",
        "colab": {}
      },
      "source": [
        "#First create a set of all of the distinct words,\n",
        "# then creating a map of each word to a unique integer.\n",
        "def get_Word_dict(word_list):\n",
        "    uniq_word = sorted(list(set(word_list)))\n",
        "    uniqword_to_int = dict((c, i) for i, c in enumerate(uniq_word))\n",
        "    print(\"Total no. Words:- \", len(word_list))\n",
        "    print(\"Total no. of unique words:- \", len(uniq_word))\n",
        "    return(uniqword_to_int)\n",
        "\n",
        "def get_int_to_word(word_list):\n",
        "    uniq_word = sorted(list(set(word_list)))\n",
        "    int_to_word = dict((i, c) for i, c in enumerate(uniq_word))\n",
        "    return(int_to_word)"
      ],
      "execution_count": 0,
      "outputs": []
    },
    {
      "cell_type": "code",
      "metadata": {
        "id": "seyhg4gz_n-m",
        "colab_type": "code",
        "colab": {}
      },
      "source": [
        "# prepare the dataset of input to output pairs encoded as integers\n",
        "def Data_Preprocessing(fp, seq_no, word_dict):\n",
        "    datax = []\n",
        "    datay = []\n",
        "    datay_word = []\n",
        "    raw_text = open(fp).read().lower()\n",
        "    raw_text = raw_text.split(\"\\n\")\n",
        "    fdatax = open('data_input.csv', \"w\")\n",
        "    fdatax_2 = open('data_input_string.csv', \"w\")\n",
        "    for row in raw_text:\n",
        "        temp = (row +\" \\n\").split(\" \")\n",
        "        for i in range(len(temp)-seq_no):\n",
        "            temp_word = str(temp[i])\n",
        "            temp_word_int = str(word_dict[temp[i]])\n",
        "            for index in range(1, seq_no+1):\n",
        "                temp_word += \",\"+str(temp[i+index])\n",
        "                temp_word_int += \",\"+str(word_dict[temp[i+index]])\n",
        "            print(temp_word,file=fdatax_2)\n",
        "            print(temp_word_int,file=fdatax)\n",
        "    fdatax.close()\n",
        "    fdatax_2.close()\n",
        "    names = [str(i) for i in range(seq_no+1)]\n",
        "    datax = pd.read_csv(\"data_input.csv\",names=names)\n",
        "    datax_2 = datax/len(word_dict)\n",
        "    names = [str(i) for i in range(seq_no)]\n",
        "    r = datax_2[names]\n",
        "    s = datax[[str(seq_no)]] \n",
        "    return(r, s,datax)"
      ],
      "execution_count": 0,
      "outputs": []
    },
    {
      "cell_type": "code",
      "metadata": {
        "id": "eDJnQvvY_rrS",
        "colab_type": "code",
        "colab": {}
      },
      "source": [
        "def get_initial_last_Word(fp, seq_no):\n",
        "    initial_word = []\n",
        "    last_word = []\n",
        "\n",
        "    raw_text = open(fp).readlines()\n",
        "    for row in raw_text:\n",
        "        temp= row.split(\" \")\n",
        "        temp_word = \"\"\n",
        "        for index in range(0, seq_no):\n",
        "            temp_word += temp[0+index]+\" \"\n",
        "        initial_word.append(temp_word.rstrip(\" \"))\n",
        "        last_word.append(temp[-1].replace(\"\\n\",\"\"))\n",
        "    \n",
        "    dami = list(set(initial_word))\n",
        "    dx = [x.split(\" \") for x in dami]\n",
        "    return(dx, list(set(last_word)))"
      ],
      "execution_count": 0,
      "outputs": []
    },
    {
      "cell_type": "code",
      "metadata": {
        "id": "mgptRTXapTvb",
        "colab_type": "code",
        "colab": {}
      },
      "source": [
        "def createModel(X,y):\n",
        "    model = Sequential()\n",
        "    model.add(LSTM(512, input_shape=(X.shape[1], X.shape[2]), return_sequences=True))\n",
        "    model.add(Dropout(0.2))\n",
        "    model.add(LSTM(512))\n",
        "    model.add(Dropout(0.2))\n",
        "    model.add(Dense(y.shape[1], activation='softmax'))\n",
        "    model.compile(loss='categorical_crossentropy', optimizer='adam',metrics=['accuracy', 'categorical_crossentropy'])\n",
        "    model.summary()\n",
        "    return model"
      ],
      "execution_count": 0,
      "outputs": []
    },
    {
      "cell_type": "code",
      "metadata": {
        "id": "Ov9wGWeNpY8E",
        "colab_type": "code",
        "colab": {}
      },
      "source": [
        "def plot_history(histories, key='categorical_crossentropy'):\n",
        "  plt.figure(figsize=(16,10))\n",
        "\n",
        "  for name, history in histories:\n",
        "    val = plt.plot(history.epoch, history.history['val_'+key],\n",
        "                   '--', label=name.title()+' Val')\n",
        "    plt.plot(history.epoch, history.history[key], color=val[0].get_color(),\n",
        "             label=name.title()+' Train')\n",
        "  plt.xlabel('Epochs')\n",
        "  plt.ylabel(key.replace('_',' ').title())\n",
        "  plt.legend()\n",
        "  plt.xlim([0,max(history.epoch)])"
      ],
      "execution_count": 0,
      "outputs": []
    },
    {
      "cell_type": "code",
      "metadata": {
        "id": "qLu9Bpvzz-sV",
        "colab_type": "code",
        "colab": {}
      },
      "source": [
        "def create_categorical(y, total_no_words):\n",
        "    categorical_data = np.zeros((len(y), total_no_words))\n",
        "    print(len(y))\n",
        "    for row in range(len(y)):\n",
        "        temp = y[row]\n",
        "        categorical_data[row][temp] = 1\n",
        "    print(categorical_data)\n",
        "    return(categorical_data) "
      ],
      "execution_count": 0,
      "outputs": []
    },
    {
      "cell_type": "code",
      "metadata": {
        "id": "Ri_4xOH9phYj",
        "colab_type": "code",
        "outputId": "c7d7bd40-ee32-4bdc-ee6e-500a706835a7",
        "colab": {
          "base_uri": "https://localhost:8080/",
          "height": 35
        }
      },
      "source": [
        "filename = 'class_3_p.csv'\n",
        "seq = 3\n",
        "total_words = get_Word(filename)"
      ],
      "execution_count": 13,
      "outputs": [
        {
          "output_type": "stream",
          "text": [
            "Length of total word_list:- 30874\n"
          ],
          "name": "stdout"
        }
      ]
    },
    {
      "cell_type": "code",
      "metadata": {
        "id": "_hJ0U5DDpjcr",
        "colab_type": "code",
        "outputId": "0237b804-a19f-42a6-da78-9dfaea63ef75",
        "colab": {
          "base_uri": "https://localhost:8080/",
          "height": 88
        }
      },
      "source": [
        "word_dict = get_Word_dict(total_words)\n",
        "int_to_word = get_int_to_word(total_words)\n",
        "initial_word, last_word = get_initial_last_Word(filename, seq)\n",
        "fileNN=open(\"initialWords.txt\",\"w\")\n",
        "print(initial_word,file=fileNN)\n",
        "fileNN.close()\n",
        "datax, datay,total_dataset = Data_Preprocessing(filename, seq, word_dict)\n",
        "no_patterns = len(datax)\n",
        "\n",
        "print(\"datax: \", datax.shape)\n",
        "print(\"datay: \", datay.shape)"
      ],
      "execution_count": 14,
      "outputs": [
        {
          "output_type": "stream",
          "text": [
            "Total no. Words:-  30874\n",
            "Total no. of unique words:-  1011\n",
            "datax:  (27600, 3)\n",
            "datay:  (27600, 1)\n"
          ],
          "name": "stdout"
        }
      ]
    },
    {
      "cell_type": "code",
      "metadata": {
        "id": "TqX7vbgapoOq",
        "colab_type": "code",
        "colab": {
          "base_uri": "https://localhost:8080/",
          "height": 88
        },
        "outputId": "3c492803-38ff-4e73-8136-dc9adfb122b8"
      },
      "source": [
        "X_train, X_val, y_train, y_val = train_test_split(datax,datay,test_size = 0.4)\n",
        "print(\"X_train: \", X_train.shape)\n",
        "print(\"X_val: \", X_val.shape)\n",
        "print(\"Y_train: \", y_train.shape)\n",
        "print(\"Y_val: \", y_val.shape)"
      ],
      "execution_count": 15,
      "outputs": [
        {
          "output_type": "stream",
          "text": [
            "X_train:  (16560, 3)\n",
            "X_val:  (11040, 3)\n",
            "Y_train:  (16560, 1)\n",
            "Y_val:  (11040, 1)\n"
          ],
          "name": "stdout"
        }
      ]
    },
    {
      "cell_type": "code",
      "metadata": {
        "id": "33IChxolqPoZ",
        "colab_type": "code",
        "outputId": "4cec1dbc-b2df-40b6-d3b9-c25612b9c04f",
        "colab": {
          "base_uri": "https://localhost:8080/",
          "height": 160
        }
      },
      "source": [
        "X = np.reshape(X_train.to_numpy(), (len(X_train), seq, 1))\n",
        "y = create_categorical(y_train.to_numpy(), len(set(total_words)))"
      ],
      "execution_count": 16,
      "outputs": [
        {
          "output_type": "stream",
          "text": [
            "16560\n",
            "[[0. 0. 0. ... 0. 0. 0.]\n",
            " [0. 0. 0. ... 0. 0. 0.]\n",
            " [0. 0. 0. ... 0. 0. 0.]\n",
            " ...\n",
            " [0. 0. 0. ... 0. 0. 0.]\n",
            " [0. 0. 0. ... 0. 0. 0.]\n",
            " [0. 0. 1. ... 0. 0. 0.]]\n"
          ],
          "name": "stdout"
        }
      ]
    },
    {
      "cell_type": "code",
      "metadata": {
        "id": "uDW0KrHT0T_V",
        "colab_type": "code",
        "colab": {
          "base_uri": "https://localhost:8080/",
          "height": 160
        },
        "outputId": "a0f159b7-12f2-4441-c906-b1c7c0f912cc"
      },
      "source": [
        "X_val = np.reshape(X_val.to_numpy(), (len(X_val), seq, 1))\n",
        "y_val = create_categorical(y_val.to_numpy(), len(set(total_words)))"
      ],
      "execution_count": 17,
      "outputs": [
        {
          "output_type": "stream",
          "text": [
            "11040\n",
            "[[0. 0. 0. ... 0. 0. 0.]\n",
            " [0. 0. 0. ... 0. 0. 0.]\n",
            " [0. 0. 0. ... 0. 0. 0.]\n",
            " ...\n",
            " [0. 0. 0. ... 0. 0. 0.]\n",
            " [0. 0. 0. ... 0. 0. 0.]\n",
            " [0. 0. 0. ... 0. 0. 0.]]\n"
          ],
          "name": "stdout"
        }
      ]
    },
    {
      "cell_type": "code",
      "metadata": {
        "id": "G63ArUra0Ydr",
        "colab_type": "code",
        "colab": {
          "base_uri": "https://localhost:8080/",
          "height": 35
        },
        "outputId": "8d6e026f-d413-4d45-f514-f6e84d3a507a"
      },
      "source": [
        "print(y.shape)"
      ],
      "execution_count": 18,
      "outputs": [
        {
          "output_type": "stream",
          "text": [
            "(16560, 1011)\n"
          ],
          "name": "stdout"
        }
      ]
    },
    {
      "cell_type": "code",
      "metadata": {
        "id": "aZseIVbCpp96",
        "colab_type": "code",
        "colab": {}
      },
      "source": [
        "model=None\n",
        "model = createModel(X, y)\n",
        "histories=model.fit(X, y, epochs=100, batch_size=128, validation_data=(X_val, y_val))"
      ],
      "execution_count": 0,
      "outputs": []
    },
    {
      "cell_type": "code",
      "metadata": {
        "id": "S5a2sQvi9KUS",
        "colab_type": "code",
        "colab": {}
      },
      "source": [
        "model.save('my_model.h5')"
      ],
      "execution_count": 0,
      "outputs": []
    },
    {
      "cell_type": "code",
      "metadata": {
        "id": "ieeJCPM39N4f",
        "colab_type": "code",
        "colab": {
          "base_uri": "https://localhost:8080/",
          "height": 466
        },
        "outputId": "6c7767da-c486-491e-8868-9160381204fd"
      },
      "source": [
        "# Recreate the exact same model, including its weights and the optimizer\n",
        "model = tf.keras.models.load_model('my_model.h5')\n",
        "\n",
        "# Show the model architecture\n",
        "model.summary()"
      ],
      "execution_count": 3,
      "outputs": [
        {
          "output_type": "stream",
          "text": [
            "WARNING:tensorflow:From /usr/local/lib/python3.6/dist-packages/tensorflow_core/python/ops/resource_variable_ops.py:1630: calling BaseResourceVariable.__init__ (from tensorflow.python.ops.resource_variable_ops) with constraint is deprecated and will be removed in a future version.\n",
            "Instructions for updating:\n",
            "If using Keras pass *_constraint arguments to layers.\n",
            "WARNING:tensorflow:From /usr/local/lib/python3.6/dist-packages/tensorflow_core/python/ops/math_grad.py:1424: where (from tensorflow.python.ops.array_ops) is deprecated and will be removed in a future version.\n",
            "Instructions for updating:\n",
            "Use tf.where in 2.0, which has the same broadcast rule as np.where\n",
            "Model: \"sequential_1\"\n",
            "_________________________________________________________________\n",
            "Layer (type)                 Output Shape              Param #   \n",
            "=================================================================\n",
            "lstm_1 (LSTM)                (None, 3, 512)            1052672   \n",
            "_________________________________________________________________\n",
            "dropout_1 (Dropout)          (None, 3, 512)            0         \n",
            "_________________________________________________________________\n",
            "lstm_2 (LSTM)                (None, 512)               2099200   \n",
            "_________________________________________________________________\n",
            "dropout_2 (Dropout)          (None, 512)               0         \n",
            "_________________________________________________________________\n",
            "dense_1 (Dense)              (None, 1011)              518643    \n",
            "=================================================================\n",
            "Total params: 3,670,515\n",
            "Trainable params: 3,670,515\n",
            "Non-trainable params: 0\n",
            "_________________________________________________________________\n"
          ],
          "name": "stdout"
        }
      ]
    },
    {
      "cell_type": "code",
      "metadata": {
        "id": "i9CyAQuj0gx8",
        "colab_type": "code",
        "colab": {
          "base_uri": "https://localhost:8080/",
          "height": 169
        },
        "outputId": "a4c51498-199d-4ebd-c115-885edfc81444"
      },
      "source": [
        "plot_history([('baseline', histories)])"
      ],
      "execution_count": 19,
      "outputs": [
        {
          "output_type": "error",
          "ename": "NameError",
          "evalue": "ignored",
          "traceback": [
            "\u001b[0;31m---------------------------------------------------------------------------\u001b[0m",
            "\u001b[0;31mNameError\u001b[0m                                 Traceback (most recent call last)",
            "\u001b[0;32m<ipython-input-19-e849cf3c2644>\u001b[0m in \u001b[0;36m<module>\u001b[0;34m()\u001b[0m\n\u001b[0;32m----> 1\u001b[0;31m \u001b[0mplot_history\u001b[0m\u001b[0;34m(\u001b[0m\u001b[0;34m[\u001b[0m\u001b[0;34m(\u001b[0m\u001b[0;34m'baseline'\u001b[0m\u001b[0;34m,\u001b[0m \u001b[0mhistories\u001b[0m\u001b[0;34m)\u001b[0m\u001b[0;34m]\u001b[0m\u001b[0;34m)\u001b[0m\u001b[0;34m\u001b[0m\u001b[0;34m\u001b[0m\u001b[0m\n\u001b[0m",
            "\u001b[0;31mNameError\u001b[0m: name 'histories' is not defined"
          ]
        }
      ]
    },
    {
      "cell_type": "code",
      "metadata": {
        "id": "M_7v2NesY8_M",
        "colab_type": "code",
        "colab": {}
      },
      "source": [
        "word_dict"
      ],
      "execution_count": 0,
      "outputs": []
    },
    {
      "cell_type": "code",
      "metadata": {
        "id": "_QaD5lc5aM9f",
        "colab_type": "code",
        "colab": {}
      },
      "source": [
        "def generateTweet(fileN):\n",
        "  start = np.random.randint(0, len(initial_word)-1)\n",
        "  seed_text = initial_word[start]\n",
        "  print(seed_text)\n",
        "  seed = [word_dict[word] for word in seed_text]\n",
        "  #print(seed)\n",
        "  generatedTextList= seed_text\n",
        "  flag = True\n",
        "  #print(generatedTextList)\n",
        "  count=0\n",
        "\n",
        "  while (flag):\n",
        "    x = np.reshape(seed, (1, len(seed), 1))\n",
        "    x = x / float(len(set(total_words)))\n",
        "    prediction = model.predict(x, verbose=0)\n",
        "    index = np.argmax(prediction)\n",
        "  #             result = datay_word[index]\n",
        "    result = int_to_word[index]\n",
        "    generatedTextList.append(result)\n",
        "    seq_in = [int_to_word[value] for value in seed]\n",
        "  #         sys.stdout.write(result+ \" \")\n",
        "  #         print(result+ \" \",end=\"\")\n",
        "    seed.append(index)\n",
        "    seed = seed[1:len(seed)]\n",
        "    if result == \"\\n\" or count==15:\n",
        "        flag = False\n",
        "    count+=1\n",
        "\n",
        "  print(generatedTextList, file = fileN)\n",
        "  print(generatedTextList)"
      ],
      "execution_count": 0,
      "outputs": []
    },
    {
      "cell_type": "code",
      "metadata": {
        "id": "huMNJV_spth6",
        "colab_type": "code",
        "colab": {
          "base_uri": "https://localhost:8080/",
          "height": 1000
        },
        "outputId": "5b2e2741-0a9f-47ce-a172-1a1fbc1b19f5"
      },
      "source": [
        "fileN=open(\"generatedText.txt\",\"w\")\n",
        "for _ in range(500):\n",
        "  generateTweet(fileN)\n",
        "fileN.close()"
      ],
      "execution_count": 36,
      "outputs": [
        {
          "output_type": "stream",
          "text": [
            "['light', 'pressure', 'on']\n",
            "['light', 'pressure', 'on']\n",
            "['light', 'pressure', 'on', 'brabourne', 'road', 'near', 'tea', 'road', 'has', 'slowed', 'down', 'the', 'traffic', 'towards', 'point', 'crossing', '\\n']\n",
            "['consequitively', 'two', 'broken']\n",
            "['consequitively', 'two', 'broken']\n",
            "['consequitively', 'two', 'broken', 'down', 'to', 'on', 'broken', 'down', 'vehicle', 'on', 'ajc', 'bose', 'flyover', 'near', 'exide', 'crossing', 'has', 'slowed', 'down']\n",
            "['due', 'to', 'one']\n",
            "['due', 'to', 'one']\n",
            "['due', 'to', 'one', 'broken', 'down', 'vehicle', 'on', 'ajc', 'bose', 'flyover', 'near', 'exide', 'crossing', 'has', 'slowed', 'down', 'the', 'traffic', 'towards']\n",
            "['traffic', 'of', 'ajc']\n",
            "['traffic', 'of', 'ajc']\n",
            "['traffic', 'of', 'ajc', 'bose', 'flyover', 'near', 'exide', 'crossing', 'has', 'slowed', 'down', 'the', 'traffic', 'towards', 'point', 'crossing', '\\n']\n",
            "['moderate', 'pressure', 'on']\n",
            "['moderate', 'pressure', 'on']\n",
            "['moderate', 'pressure', 'on', 'has', 'slowed', 'down', 'the', 'traffic', 'towards', 'point', 'crossing', '\\n']\n",
            "['traffic', 'is', 'slow']\n",
            "['traffic', 'is', 'slow']\n",
            "['traffic', 'is', 'slow', 'on', 'ajc', 'bose', 'flyover', 'near', 'exide', 'crossing', 'has', 'slowed', 'down', 'the', 'traffic', 'towards', 'point', 'crossing', '\\n']\n",
            "['taratala', 'road', 'west']\n",
            "['taratala', 'road', 'west']\n",
            "['taratala', 'road', 'west', 'journey', 'crossing', '\\n']\n",
            "['traffic', 'partially', 'obstructed']\n",
            "['traffic', 'partially', 'obstructed']\n",
            "['traffic', 'partially', 'obstructed', '\\n']\n",
            "['dh', 'road', 'nbound']\n",
            "['dh', 'road', 'nbound']\n",
            "['dh', 'road', 'nbound', 'ekbalpore', 'has', 'slowed', 'down', 'the', 'traffic', 'towards', 'point', 'crossing', '\\n']\n",
            "['the', 'broken', 'down']\n",
            "['the', 'broken', 'down']\n",
            "['the', 'broken', 'down', 'vehicle', 'on', 'ajc', 'bose', 'flyover', 'near', 'exide', 'crossing', 'has', 'slowed', 'down', 'the', 'traffic', 'towards', 'point', 'crossing']\n",
            "['ajc', 'flyover', 'ebound']\n",
            "['ajc', 'flyover', 'ebound']\n",
            "['ajc', 'flyover', 'ebound', 'bound', 'is', 'moving', 'slow', 'due', 'to', 'traffic', 'towards', 'point', 'crossing', '\\n']\n",
            "['sudden', 'broken', 'down']\n",
            "['sudden', 'broken', 'down']\n",
            "['sudden', 'broken', 'down', 'of', 'a', 'vehicle', 'on', 'ajc', 'bose', 'flyover', 'near', 'exide', 'crossing', 'has', 'slowed', 'down', 'the', 'traffic', 'towards']\n",
            "['sudden', 'broken', 'of']\n",
            "['sudden', 'broken', 'of']\n",
            "['sudden', 'broken', 'of', 'a', 'vehicle', 'on', 'ajc', 'bose', 'flyover', 'near', 'exide', 'crossing', 'has', 'slowed', 'down', 'the', 'traffic', 'towards', 'point']\n",
            "['sudden', 'breakdwon', 'of']\n",
            "['sudden', 'breakdwon', 'of']\n",
            "['sudden', 'breakdwon', 'of', 'a', 'vehicle', 'on', 'ajc', 'bose', 'flyover', 'near', 'exide', 'crossing', 'has', 'slowed', 'down', 'the', 'traffic', 'towards', 'point']\n",
            "['due', 'to', 'a']\n",
            "['due', 'to', 'a']\n",
            "['due', 'to', 'a', 'broken', 'road', 'roller', 'has', 'slowed', 'down', 'the', 'traffic', 'towards', 'point', 'crossing', '\\n']\n",
            "['ajc', 'flyover', 'ebound', 'bound', 'is', 'moving', 'slow', 'due', 'to', 'traffic', 'towards', 'point', 'crossing', '\\n']\n",
            "['ajc', 'flyover', 'ebound', 'bound', 'is', 'moving', 'slow', 'due', 'to', 'traffic', 'towards', 'point', 'crossing', '\\n']\n"
          ],
          "name": "stdout"
        },
        {
          "output_type": "error",
          "ename": "ValueError",
          "evalue": "ignored",
          "traceback": [
            "\u001b[0;31m---------------------------------------------------------------------------\u001b[0m",
            "\u001b[0;31mValueError\u001b[0m                                Traceback (most recent call last)",
            "\u001b[0;32m<ipython-input-36-2ad3aa8d2760>\u001b[0m in \u001b[0;36m<module>\u001b[0;34m()\u001b[0m\n\u001b[1;32m      1\u001b[0m \u001b[0mfileN\u001b[0m\u001b[0;34m=\u001b[0m\u001b[0mopen\u001b[0m\u001b[0;34m(\u001b[0m\u001b[0;34m\"generatedText.txt\"\u001b[0m\u001b[0;34m,\u001b[0m\u001b[0;34m\"w\"\u001b[0m\u001b[0;34m)\u001b[0m\u001b[0;34m\u001b[0m\u001b[0;34m\u001b[0m\u001b[0m\n\u001b[1;32m      2\u001b[0m \u001b[0;32mfor\u001b[0m \u001b[0m_\u001b[0m \u001b[0;32min\u001b[0m \u001b[0mrange\u001b[0m\u001b[0;34m(\u001b[0m\u001b[0;36m500\u001b[0m\u001b[0;34m)\u001b[0m\u001b[0;34m:\u001b[0m\u001b[0;34m\u001b[0m\u001b[0;34m\u001b[0m\u001b[0m\n\u001b[0;32m----> 3\u001b[0;31m   \u001b[0mgenerateTweet\u001b[0m\u001b[0;34m(\u001b[0m\u001b[0mfileN\u001b[0m\u001b[0;34m)\u001b[0m\u001b[0;34m\u001b[0m\u001b[0;34m\u001b[0m\u001b[0m\n\u001b[0m\u001b[1;32m      4\u001b[0m \u001b[0mfileN\u001b[0m\u001b[0;34m.\u001b[0m\u001b[0mclose\u001b[0m\u001b[0;34m(\u001b[0m\u001b[0;34m)\u001b[0m\u001b[0;34m\u001b[0m\u001b[0;34m\u001b[0m\u001b[0m\n",
            "\u001b[0;32m<ipython-input-35-8db35ded4f39>\u001b[0m in \u001b[0;36mgenerateTweet\u001b[0;34m(fileN)\u001b[0m\n\u001b[1;32m     13\u001b[0m     \u001b[0mx\u001b[0m \u001b[0;34m=\u001b[0m \u001b[0mnp\u001b[0m\u001b[0;34m.\u001b[0m\u001b[0mreshape\u001b[0m\u001b[0;34m(\u001b[0m\u001b[0mseed\u001b[0m\u001b[0;34m,\u001b[0m \u001b[0;34m(\u001b[0m\u001b[0;36m1\u001b[0m\u001b[0;34m,\u001b[0m \u001b[0mlen\u001b[0m\u001b[0;34m(\u001b[0m\u001b[0mseed\u001b[0m\u001b[0;34m)\u001b[0m\u001b[0;34m,\u001b[0m \u001b[0;36m1\u001b[0m\u001b[0;34m)\u001b[0m\u001b[0;34m)\u001b[0m\u001b[0;34m\u001b[0m\u001b[0;34m\u001b[0m\u001b[0m\n\u001b[1;32m     14\u001b[0m     \u001b[0mx\u001b[0m \u001b[0;34m=\u001b[0m \u001b[0mx\u001b[0m \u001b[0;34m/\u001b[0m \u001b[0mfloat\u001b[0m\u001b[0;34m(\u001b[0m\u001b[0mlen\u001b[0m\u001b[0;34m(\u001b[0m\u001b[0mset\u001b[0m\u001b[0;34m(\u001b[0m\u001b[0mtotal_words\u001b[0m\u001b[0;34m)\u001b[0m\u001b[0;34m)\u001b[0m\u001b[0;34m)\u001b[0m\u001b[0;34m\u001b[0m\u001b[0;34m\u001b[0m\u001b[0m\n\u001b[0;32m---> 15\u001b[0;31m     \u001b[0mprediction\u001b[0m \u001b[0;34m=\u001b[0m \u001b[0mmodel\u001b[0m\u001b[0;34m.\u001b[0m\u001b[0mpredict\u001b[0m\u001b[0;34m(\u001b[0m\u001b[0mx\u001b[0m\u001b[0;34m,\u001b[0m \u001b[0mverbose\u001b[0m\u001b[0;34m=\u001b[0m\u001b[0;36m0\u001b[0m\u001b[0;34m)\u001b[0m\u001b[0;34m\u001b[0m\u001b[0;34m\u001b[0m\u001b[0m\n\u001b[0m\u001b[1;32m     16\u001b[0m     \u001b[0mindex\u001b[0m \u001b[0;34m=\u001b[0m \u001b[0mnp\u001b[0m\u001b[0;34m.\u001b[0m\u001b[0margmax\u001b[0m\u001b[0;34m(\u001b[0m\u001b[0mprediction\u001b[0m\u001b[0;34m)\u001b[0m\u001b[0;34m\u001b[0m\u001b[0;34m\u001b[0m\u001b[0m\n\u001b[1;32m     17\u001b[0m   \u001b[0;31m#             result = datay_word[index]\u001b[0m\u001b[0;34m\u001b[0m\u001b[0;34m\u001b[0m\u001b[0;34m\u001b[0m\u001b[0m\n",
            "\u001b[0;32m/usr/local/lib/python3.6/dist-packages/tensorflow_core/python/keras/engine/training.py\u001b[0m in \u001b[0;36mpredict\u001b[0;34m(self, x, batch_size, verbose, steps, callbacks, max_queue_size, workers, use_multiprocessing)\u001b[0m\n\u001b[1;32m    906\u001b[0m         \u001b[0mmax_queue_size\u001b[0m\u001b[0;34m=\u001b[0m\u001b[0mmax_queue_size\u001b[0m\u001b[0;34m,\u001b[0m\u001b[0;34m\u001b[0m\u001b[0;34m\u001b[0m\u001b[0m\n\u001b[1;32m    907\u001b[0m         \u001b[0mworkers\u001b[0m\u001b[0;34m=\u001b[0m\u001b[0mworkers\u001b[0m\u001b[0;34m,\u001b[0m\u001b[0;34m\u001b[0m\u001b[0;34m\u001b[0m\u001b[0m\n\u001b[0;32m--> 908\u001b[0;31m         use_multiprocessing=use_multiprocessing)\n\u001b[0m\u001b[1;32m    909\u001b[0m \u001b[0;34m\u001b[0m\u001b[0m\n\u001b[1;32m    910\u001b[0m   \u001b[0;32mdef\u001b[0m \u001b[0mreset_metrics\u001b[0m\u001b[0;34m(\u001b[0m\u001b[0mself\u001b[0m\u001b[0;34m)\u001b[0m\u001b[0;34m:\u001b[0m\u001b[0;34m\u001b[0m\u001b[0;34m\u001b[0m\u001b[0m\n",
            "\u001b[0;32m/usr/local/lib/python3.6/dist-packages/tensorflow_core/python/keras/engine/training_arrays.py\u001b[0m in \u001b[0;36mpredict\u001b[0;34m(self, model, x, batch_size, verbose, steps, callbacks, **kwargs)\u001b[0m\n\u001b[1;32m    714\u001b[0m     \u001b[0mbatch_size\u001b[0m \u001b[0;34m=\u001b[0m \u001b[0mmodel\u001b[0m\u001b[0;34m.\u001b[0m\u001b[0m_validate_or_infer_batch_size\u001b[0m\u001b[0;34m(\u001b[0m\u001b[0mbatch_size\u001b[0m\u001b[0;34m,\u001b[0m \u001b[0msteps\u001b[0m\u001b[0;34m,\u001b[0m \u001b[0mx\u001b[0m\u001b[0;34m)\u001b[0m\u001b[0;34m\u001b[0m\u001b[0;34m\u001b[0m\u001b[0m\n\u001b[1;32m    715\u001b[0m     x, _, _ = model._standardize_user_data(\n\u001b[0;32m--> 716\u001b[0;31m         x, check_steps=True, steps_name='steps', steps=steps)\n\u001b[0m\u001b[1;32m    717\u001b[0m     return predict_loop(\n\u001b[1;32m    718\u001b[0m         \u001b[0mmodel\u001b[0m\u001b[0;34m,\u001b[0m\u001b[0;34m\u001b[0m\u001b[0;34m\u001b[0m\u001b[0m\n",
            "\u001b[0;32m/usr/local/lib/python3.6/dist-packages/tensorflow_core/python/keras/engine/training.py\u001b[0m in \u001b[0;36m_standardize_user_data\u001b[0;34m(self, x, y, sample_weight, class_weight, batch_size, check_steps, steps_name, steps, validation_split, shuffle, extract_tensors_from_dataset)\u001b[0m\n\u001b[1;32m   2469\u001b[0m           \u001b[0mfeed_input_shapes\u001b[0m\u001b[0;34m,\u001b[0m\u001b[0;34m\u001b[0m\u001b[0;34m\u001b[0m\u001b[0m\n\u001b[1;32m   2470\u001b[0m           \u001b[0mcheck_batch_axis\u001b[0m\u001b[0;34m=\u001b[0m\u001b[0;32mFalse\u001b[0m\u001b[0;34m,\u001b[0m  \u001b[0;31m# Don't enforce the batch size.\u001b[0m\u001b[0;34m\u001b[0m\u001b[0;34m\u001b[0m\u001b[0m\n\u001b[0;32m-> 2471\u001b[0;31m           exception_prefix='input')\n\u001b[0m\u001b[1;32m   2472\u001b[0m \u001b[0;34m\u001b[0m\u001b[0m\n\u001b[1;32m   2473\u001b[0m     \u001b[0;31m# Get typespecs for the input data and sanitize it if necessary.\u001b[0m\u001b[0;34m\u001b[0m\u001b[0;34m\u001b[0m\u001b[0;34m\u001b[0m\u001b[0m\n",
            "\u001b[0;32m/usr/local/lib/python3.6/dist-packages/tensorflow_core/python/keras/engine/training_utils.py\u001b[0m in \u001b[0;36mstandardize_input_data\u001b[0;34m(data, names, shapes, check_batch_axis, exception_prefix)\u001b[0m\n\u001b[1;32m    570\u001b[0m                              \u001b[0;34m': expected '\u001b[0m \u001b[0;34m+\u001b[0m \u001b[0mnames\u001b[0m\u001b[0;34m[\u001b[0m\u001b[0mi\u001b[0m\u001b[0;34m]\u001b[0m \u001b[0;34m+\u001b[0m \u001b[0;34m' to have shape '\u001b[0m \u001b[0;34m+\u001b[0m\u001b[0;34m\u001b[0m\u001b[0;34m\u001b[0m\u001b[0m\n\u001b[1;32m    571\u001b[0m                              \u001b[0mstr\u001b[0m\u001b[0;34m(\u001b[0m\u001b[0mshape\u001b[0m\u001b[0;34m)\u001b[0m \u001b[0;34m+\u001b[0m \u001b[0;34m' but got array with shape '\u001b[0m \u001b[0;34m+\u001b[0m\u001b[0;34m\u001b[0m\u001b[0;34m\u001b[0m\u001b[0m\n\u001b[0;32m--> 572\u001b[0;31m                              str(data_shape))\n\u001b[0m\u001b[1;32m    573\u001b[0m   \u001b[0;32mreturn\u001b[0m \u001b[0mdata\u001b[0m\u001b[0;34m\u001b[0m\u001b[0;34m\u001b[0m\u001b[0m\n\u001b[1;32m    574\u001b[0m \u001b[0;34m\u001b[0m\u001b[0m\n",
            "\u001b[0;31mValueError\u001b[0m: Error when checking input: expected lstm_1_input to have shape (3, 1) but got array with shape (14, 1)"
          ]
        }
      ]
    },
    {
      "cell_type": "code",
      "metadata": {
        "id": "qsyU0ZvPukUw",
        "colab_type": "code",
        "outputId": "47ca58b9-ca68-4222-fe9d-ff152583b8a7",
        "colab": {
          "base_uri": "https://localhost:8080/",
          "height": 35
        }
      },
      "source": [
        "import numpy as np\n",
        "from sklearn.model_selection import KFold\n",
        "\n",
        "X = np.array([[1, 2], [3, 4], [1, 2], [3, 4]])\n",
        "y = np.array([1, 2, 3, 4])\n",
        "kf = KFold(n_splits=2)\n",
        "kf.get_n_splits(X)"
      ],
      "execution_count": 0,
      "outputs": [
        {
          "output_type": "execute_result",
          "data": {
            "text/plain": [
              "2"
            ]
          },
          "metadata": {
            "tags": []
          },
          "execution_count": 16
        }
      ]
    }
  ]
}