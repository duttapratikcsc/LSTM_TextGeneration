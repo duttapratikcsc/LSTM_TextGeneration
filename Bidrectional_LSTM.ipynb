{
  "nbformat": 4,
  "nbformat_minor": 0,
  "metadata": {
    "colab": {
      "name": "Bidirectional_LSTM.ipynb",
      "provenance": [],
      "collapsed_sections": [],
      "toc_visible": true,
      "include_colab_link": true
    },
    "kernelspec": {
      "name": "python3",
      "display_name": "Python 3"
    }
  },
  "cells": [
    {
      "cell_type": "markdown",
      "metadata": {
        "id": "view-in-github",
        "colab_type": "text"
      },
      "source": [
        "<a href=\"https://colab.research.google.com/github/duttapratikcsc/LSTM_TextGeneration/blob/master/Bidrectional_LSTM.ipynb\" target=\"_parent\"><img src=\"https://colab.research.google.com/assets/colab-badge.svg\" alt=\"Open In Colab\"/></a>"
      ]
    },
    {
      "cell_type": "code",
      "metadata": {
        "id": "4cVv305IpFOm",
        "colab_type": "code",
        "outputId": "e93048cf-bdd5-4ecc-b7ad-7f3a7b9b4441",
        "colab": {
          "base_uri": "https://localhost:8080/",
          "height": 35
        }
      },
      "source": [
        "import sys, os\n",
        "import numpy as np\n",
        "from tensorflow import keras\n",
        "from keras.models import Sequential\n",
        "from keras.layers import Dense\n",
        "from keras.layers import Dropout\n",
        "from keras.layers import LSTM, Bidirectional\n",
        "# from keras.callbacks import ModelCheckpoint\n",
        "from keras.utils import np_utils\n",
        "from random import random\n",
        "try:\n",
        "  # %tensorflow_version only exists in Colab.\n",
        "  %tensorflow_version 2.x\n",
        "except Exception:\n",
        "  pass\n",
        "import tensorflow as tf\n",
        "\n",
        "import pandas as pd\n",
        "import numpy as np\n",
        "import matplotlib.pyplot as plt\n",
        "from sklearn.model_selection import train_test_split\n"
      ],
      "execution_count": 33,
      "outputs": [
        {
          "output_type": "stream",
          "text": [
            "TensorFlow is already loaded. Please restart the runtime to change versions.\n"
          ],
          "name": "stdout"
        }
      ]
    },
    {
      "cell_type": "markdown",
      "metadata": {
        "id": "kc9MWQckys_5",
        "colab_type": "text"
      },
      "source": [
        "# Get List of Words from Corpus "
      ]
    },
    {
      "cell_type": "code",
      "metadata": {
        "id": "abejn2bUpN6T",
        "colab_type": "code",
        "colab": {}
      },
      "source": [
        "def get_Word(fp):\n",
        "    word = []\n",
        "    raw_text = open(fp).read().lower()\n",
        "    raw_text = raw_text.split(\"\\n\")\n",
        "    for row in raw_text:\n",
        "        temp = row.split(\" \")\n",
        "        for i in range(len(temp)):\n",
        "            word.append(temp[i])\n",
        "    word.append(\"\\n\")\n",
        "    print(\"Length of total word_list:-\", len(word))\n",
        "    return(word)"
      ],
      "execution_count": 0,
      "outputs": []
    },
    {
      "cell_type": "code",
      "metadata": {
        "id": "Ri_4xOH9phYj",
        "colab_type": "code",
        "outputId": "68cf7989-0e38-4f5a-dd5b-70c916c5b902",
        "colab": {
          "base_uri": "https://localhost:8080/",
          "height": 35
        }
      },
      "source": [
        "filename = 'class_3_p.csv'\n",
        "seq = 3\n",
        "total_words = get_Word(filename)"
      ],
      "execution_count": 3,
      "outputs": [
        {
          "output_type": "stream",
          "text": [
            "Length of total word_list:- 30874\n"
          ],
          "name": "stdout"
        }
      ]
    },
    {
      "cell_type": "markdown",
      "metadata": {
        "id": "maUhvbzr0M5v",
        "colab_type": "text"
      },
      "source": [
        "Get Initial n-grams as well as last word for text generation"
      ]
    },
    {
      "cell_type": "code",
      "metadata": {
        "id": "iiDKURGR0HHL",
        "colab_type": "code",
        "colab": {}
      },
      "source": [
        "def get_initial_last_Word(fp, seq_no):\n",
        "    initial_word = []\n",
        "    last_word = []\n",
        "\n",
        "    raw_text = open(fp).readlines()\n",
        "    for row in raw_text:\n",
        "        temp= row.split(\" \")\n",
        "        temp_word = \"\"\n",
        "        for index in range(0, seq_no):\n",
        "            temp_word += temp[0+index]+\" \"\n",
        "        initial_word.append(temp_word.rstrip(\" \"))\n",
        "        last_word.append(temp[-1].replace(\"\\n\",\"\"))\n",
        "    \n",
        "    dami = list(set(initial_word))\n",
        "    dx = [x.split(\" \") for x in dami]\n",
        "    return(dx, list(set(last_word)))"
      ],
      "execution_count": 0,
      "outputs": []
    },
    {
      "cell_type": "markdown",
      "metadata": {
        "id": "c03fRAj6zhXN",
        "colab_type": "text"
      },
      "source": [
        "# Generate Word to Integer and Vice-versa for Embedding"
      ]
    },
    {
      "cell_type": "code",
      "metadata": {
        "id": "dGgwVNez_hKy",
        "colab_type": "code",
        "colab": {}
      },
      "source": [
        "#First create a set of all of the distinct words,\n",
        "# then creating a map of each word to a unique integer.\n",
        "def get_Word_dict(word_list):\n",
        "    uniq_word = sorted(list(set(word_list)))\n",
        "    uniqword_to_int = dict((c, i) for i, c in enumerate(uniq_word))\n",
        "    print(\"Total no. Words:- \", len(word_list))\n",
        "    print(\"Total no. of unique words:- \", len(uniq_word))\n",
        "    return(uniqword_to_int)\n",
        "\n",
        "def get_int_to_word(word_list):\n",
        "    uniq_word = sorted(list(set(word_list)))\n",
        "    int_to_word = dict((i, c) for i, c in enumerate(uniq_word))\n",
        "    return(int_to_word)"
      ],
      "execution_count": 0,
      "outputs": []
    },
    {
      "cell_type": "code",
      "metadata": {
        "id": "_hJ0U5DDpjcr",
        "colab_type": "code",
        "outputId": "4fe115c3-6554-40ee-f646-c936dfd1d817",
        "colab": {
          "base_uri": "https://localhost:8080/",
          "height": 54
        }
      },
      "source": [
        "word_dict = get_Word_dict(total_words)\n",
        "int_to_word = get_int_to_word(total_words)\n",
        "initial_word, last_word = get_initial_last_Word(filename, seq)\n",
        "fileNN=open(\"initialWords.txt\",\"w\")\n",
        "print(initial_word,file=fileNN)\n",
        "fileNN.close()"
      ],
      "execution_count": 7,
      "outputs": [
        {
          "output_type": "stream",
          "text": [
            "Total no. Words:-  30874\n",
            "Total no. of unique words:-  1011\n"
          ],
          "name": "stdout"
        }
      ]
    },
    {
      "cell_type": "markdown",
      "metadata": {
        "id": "-oOHjCGGztNK",
        "colab_type": "text"
      },
      "source": [
        "# Pre Processing of Data\n",
        "Prepare the dataset of input to output pairs encoded as integers"
      ]
    },
    {
      "cell_type": "code",
      "metadata": {
        "id": "seyhg4gz_n-m",
        "colab_type": "code",
        "colab": {}
      },
      "source": [
        "# prepare the dataset of input to output pairs encoded as integers\n",
        "def Data_Preprocessing(fp, seq_no, word_dict):\n",
        "    datax = []\n",
        "    datay = []\n",
        "    datay_word = []\n",
        "    raw_text = open(fp).read().lower()\n",
        "    raw_text = raw_text.split(\"\\n\")\n",
        "    fdatax = open('data_input.csv', \"w\")\n",
        "    fdatax_2 = open('data_input_string.csv', \"w\")\n",
        "    for row in raw_text:\n",
        "        temp = (row +\" \\n\").split(\" \")\n",
        "        for i in range(len(temp)-seq_no):\n",
        "            temp_word = str(temp[i])\n",
        "            temp_word_int = str(word_dict[temp[i]])\n",
        "            for index in range(1, seq_no+1):\n",
        "                temp_word += \",\"+str(temp[i+index])\n",
        "                temp_word_int += \",\"+str(word_dict[temp[i+index]])\n",
        "            print(temp_word,file=fdatax_2)\n",
        "            print(temp_word_int,file=fdatax)\n",
        "    fdatax.close()\n",
        "    fdatax_2.close()\n",
        "    names = [str(i) for i in range(seq_no+1)]\n",
        "    datax = pd.read_csv(\"data_input.csv\",names=names)\n",
        "    datax_2 = datax/len(word_dict)\n",
        "    names = [str(i) for i in range(seq_no)]\n",
        "    r = datax_2[names]\n",
        "    s = datax[[str(seq_no)]] \n",
        "    return(r, s,datax)"
      ],
      "execution_count": 0,
      "outputs": []
    },
    {
      "cell_type": "code",
      "metadata": {
        "id": "cvoD8Fq01qu0",
        "colab_type": "code",
        "colab": {
          "base_uri": "https://localhost:8080/",
          "height": 54
        },
        "outputId": "d45076c1-8862-4f8f-bfb6-8c969ed9d1bd"
      },
      "source": [
        "datax, datay,total_dataset = Data_Preprocessing(filename, seq, word_dict)\n",
        "no_patterns = len(datax)\n",
        "\n",
        "print(\"datax: \", datax.shape)\n",
        "print(\"datay: \", datay.shape)"
      ],
      "execution_count": 9,
      "outputs": [
        {
          "output_type": "stream",
          "text": [
            "datax:  (27600, 3)\n",
            "datay:  (27600, 1)\n"
          ],
          "name": "stdout"
        }
      ]
    },
    {
      "cell_type": "code",
      "metadata": {
        "id": "TqX7vbgapoOq",
        "colab_type": "code",
        "outputId": "242c8ccc-b207-4dcd-dac4-078ad5d31241",
        "colab": {
          "base_uri": "https://localhost:8080/",
          "height": 90
        }
      },
      "source": [
        "X_train, X_val, y_train, y_val = train_test_split(datax,datay,test_size = 0.4)\n",
        "print(\"X_train: \", X_train.shape)\n",
        "print(\"X_val: \", X_val.shape)\n",
        "print(\"Y_train: \", y_train.shape)\n",
        "print(\"Y_val: \", y_val.shape)"
      ],
      "execution_count": 10,
      "outputs": [
        {
          "output_type": "stream",
          "text": [
            "X_train:  (16560, 3)\n",
            "X_val:  (11040, 3)\n",
            "Y_train:  (16560, 1)\n",
            "Y_val:  (11040, 1)\n"
          ],
          "name": "stdout"
        }
      ]
    },
    {
      "cell_type": "markdown",
      "metadata": {
        "id": "OnTSl8QE0dbl",
        "colab_type": "text"
      },
      "source": [
        "Generate Caterogical One-hot Encodding for Output Layer"
      ]
    },
    {
      "cell_type": "code",
      "metadata": {
        "id": "OkXKqcRx0cqI",
        "colab_type": "code",
        "colab": {}
      },
      "source": [
        "def create_categorical(y, total_no_words):\n",
        "    categorical_data = np.zeros((len(y), total_no_words))\n",
        "    print(len(y))\n",
        "    for row in range(len(y)):\n",
        "        temp = y[row]\n",
        "        categorical_data[row][temp] = 1\n",
        "    print(categorical_data)\n",
        "    return(categorical_data) "
      ],
      "execution_count": 0,
      "outputs": []
    },
    {
      "cell_type": "code",
      "metadata": {
        "id": "33IChxolqPoZ",
        "colab_type": "code",
        "outputId": "cf917a2e-25ea-4674-b5ea-e67afe7d0bef",
        "colab": {
          "base_uri": "https://localhost:8080/",
          "height": 164
        }
      },
      "source": [
        "X = np.reshape(X_train.to_numpy(), (len(X_train), seq, 1))\n",
        "y = create_categorical(y_train.to_numpy(), len(set(total_words)))"
      ],
      "execution_count": 29,
      "outputs": [
        {
          "output_type": "stream",
          "text": [
            "16560\n",
            "[[0. 0. 0. ... 0. 0. 0.]\n",
            " [0. 0. 0. ... 0. 0. 0.]\n",
            " [0. 0. 0. ... 0. 0. 0.]\n",
            " ...\n",
            " [0. 0. 0. ... 0. 0. 0.]\n",
            " [0. 0. 0. ... 0. 0. 0.]\n",
            " [0. 0. 0. ... 0. 0. 0.]]\n"
          ],
          "name": "stdout"
        }
      ]
    },
    {
      "cell_type": "code",
      "metadata": {
        "id": "uDW0KrHT0T_V",
        "colab_type": "code",
        "outputId": "8df698fe-341c-4a07-cc3d-8b00e8b181e7",
        "colab": {
          "base_uri": "https://localhost:8080/",
          "height": 164
        }
      },
      "source": [
        "X_val = np.reshape(X_val.to_numpy(), (len(X_val), seq, 1))\n",
        "y_val = create_categorical(y_val.to_numpy(), len(set(total_words)))"
      ],
      "execution_count": 13,
      "outputs": [
        {
          "output_type": "stream",
          "text": [
            "11040\n",
            "[[0. 0. 0. ... 0. 0. 0.]\n",
            " [0. 0. 0. ... 0. 0. 0.]\n",
            " [0. 0. 0. ... 0. 0. 0.]\n",
            " ...\n",
            " [0. 1. 0. ... 0. 0. 0.]\n",
            " [0. 0. 0. ... 0. 0. 0.]\n",
            " [0. 0. 0. ... 0. 0. 0.]]\n"
          ],
          "name": "stdout"
        }
      ]
    },
    {
      "cell_type": "code",
      "metadata": {
        "id": "G63ArUra0Ydr",
        "colab_type": "code",
        "outputId": "5382608b-73a3-41fe-b9ea-7c3687c6a57c",
        "colab": {
          "base_uri": "https://localhost:8080/",
          "height": 35
        }
      },
      "source": [
        "print(y.shape)"
      ],
      "execution_count": 28,
      "outputs": [
        {
          "output_type": "stream",
          "text": [
            "(16560, 1011)\n"
          ],
          "name": "stdout"
        }
      ]
    },
    {
      "cell_type": "markdown",
      "metadata": {
        "id": "imxAa3iHzGEi",
        "colab_type": "text"
      },
      "source": [
        "\n",
        "### Plot Generation of Validation vs Train"
      ]
    },
    {
      "cell_type": "code",
      "metadata": {
        "id": "Ov9wGWeNpY8E",
        "colab_type": "code",
        "colab": {}
      },
      "source": [
        "def plot_history(histories, key='categorical_crossentropy'):\n",
        "  plt.figure(figsize=(16,10))\n",
        "\n",
        "  for name, history in histories:\n",
        "    val = plt.plot(history.epoch, history.history['val_'+key],\n",
        "                   '--', label=name.title()+' Val')\n",
        "    plt.plot(history.epoch, history.history[key], color=val[0].get_color(),\n",
        "             label=name.title()+' Train')\n",
        "  plt.xlabel('Epochs')\n",
        "  plt.ylabel(key.replace('_',' ').title())\n",
        "  plt.legend()\n",
        "  plt.xlim([0,max(history.epoch)])"
      ],
      "execution_count": 0,
      "outputs": []
    },
    {
      "cell_type": "markdown",
      "metadata": {
        "id": "J6aOyibpy8qy",
        "colab_type": "text"
      },
      "source": [
        "# Bidirectional LSTM Model Creation"
      ]
    },
    {
      "cell_type": "code",
      "metadata": {
        "id": "mgptRTXapTvb",
        "colab_type": "code",
        "colab": {}
      },
      "source": [
        "def createModel(X,y):\n",
        "  model = Sequential()\n",
        "  model.add(Bidirectional(LSTM(512, return_sequences=True),input_shape=(X.shape[1], X.shape[2])))\n",
        "  model.add(Dropout(0.2))\n",
        "  model.add(Bidirectional(LSTM(512)))\n",
        "  model.add(Dropout(0.2))\n",
        "  model.add(Dense(y.shape[1], activation='softmax'))\n",
        "  model.compile(loss='categorical_crossentropy', optimizer='adam',metrics=['accuracy', 'categorical_crossentropy'])\n",
        "  model.summary()\n",
        "  return model"
      ],
      "execution_count": 0,
      "outputs": []
    },
    {
      "cell_type": "markdown",
      "metadata": {
        "id": "qeVbCgU93AZn",
        "colab_type": "text"
      },
      "source": [
        "Create Bidirectional Model"
      ]
    },
    {
      "cell_type": "code",
      "metadata": {
        "id": "aZseIVbCpp96",
        "colab_type": "code",
        "colab": {
          "base_uri": "https://localhost:8080/",
          "height": 570
        },
        "outputId": "1c6fd15a-78d6-482c-b306-fbefbc6c07e8"
      },
      "source": [
        "model = createModel(X, y)"
      ],
      "execution_count": 31,
      "outputs": [
        {
          "output_type": "stream",
          "text": [
            "WARNING:tensorflow:From /usr/local/lib/python3.6/dist-packages/keras/backend/tensorflow_backend.py:541: The name tf.placeholder is deprecated. Please use tf.compat.v1.placeholder instead.\n",
            "\n",
            "WARNING:tensorflow:From /usr/local/lib/python3.6/dist-packages/keras/backend/tensorflow_backend.py:4432: The name tf.random_uniform is deprecated. Please use tf.random.uniform instead.\n",
            "\n",
            "WARNING:tensorflow:From /usr/local/lib/python3.6/dist-packages/keras/backend/tensorflow_backend.py:148: The name tf.placeholder_with_default is deprecated. Please use tf.compat.v1.placeholder_with_default instead.\n",
            "\n",
            "WARNING:tensorflow:From /usr/local/lib/python3.6/dist-packages/keras/backend/tensorflow_backend.py:3733: calling dropout (from tensorflow.python.ops.nn_ops) with keep_prob is deprecated and will be removed in a future version.\n",
            "Instructions for updating:\n",
            "Please use `rate` instead of `keep_prob`. Rate should be set to `rate = 1 - keep_prob`.\n",
            "WARNING:tensorflow:From /usr/local/lib/python3.6/dist-packages/keras/backend/tensorflow_backend.py:3576: The name tf.log is deprecated. Please use tf.math.log instead.\n",
            "\n",
            "Model: \"sequential_5\"\n",
            "_________________________________________________________________\n",
            "Layer (type)                 Output Shape              Param #   \n",
            "=================================================================\n",
            "bidirectional_9 (Bidirection (None, 3, 1024)           2105344   \n",
            "_________________________________________________________________\n",
            "dropout_9 (Dropout)          (None, 3, 1024)           0         \n",
            "_________________________________________________________________\n",
            "bidirectional_10 (Bidirectio (None, 1024)              6295552   \n",
            "_________________________________________________________________\n",
            "dropout_10 (Dropout)         (None, 1024)              0         \n",
            "_________________________________________________________________\n",
            "dense_5 (Dense)              (None, 1011)              1036275   \n",
            "=================================================================\n",
            "Total params: 9,437,171\n",
            "Trainable params: 9,437,171\n",
            "Non-trainable params: 0\n",
            "_________________________________________________________________\n"
          ],
          "name": "stdout"
        }
      ]
    },
    {
      "cell_type": "markdown",
      "metadata": {
        "id": "Ja1SqSLc5vlf",
        "colab_type": "text"
      },
      "source": [
        "## Save checkpoints during training\n",
        "### Checkpoint callback usage"
      ]
    },
    {
      "cell_type": "code",
      "metadata": {
        "id": "SK9y9iC-6NZe",
        "colab_type": "code",
        "colab": {}
      },
      "source": [
        "checkpoint_folder = \"training_1\"\n",
        "checkpoint_path = checkpoint_folder+\"/cp.ckpt\"\n",
        "checkpoint_dir = os.path.dirname(checkpoint_path)\n",
        "try:\n",
        "  os.mkdir(checkpoint_folder)\n",
        "except:\n",
        "  pass"
      ],
      "execution_count": 0,
      "outputs": []
    },
    {
      "cell_type": "code",
      "metadata": {
        "id": "snnAkmg_6xPh",
        "colab_type": "code",
        "colab": {}
      },
      "source": [
        "!ls {checkpoint_folder}"
      ],
      "execution_count": 0,
      "outputs": []
    },
    {
      "cell_type": "markdown",
      "metadata": {
        "id": "J_gGjURc7AVa",
        "colab_type": "text"
      },
      "source": [
        "### Create a callback that saves the model's weights"
      ]
    },
    {
      "cell_type": "code",
      "metadata": {
        "id": "jiPijKTw58-c",
        "colab_type": "code",
        "colab": {}
      },
      "source": [
        "cp_callback = tf.keras.callbacks.ModelCheckpoint(filepath=checkpoint_path,\n",
        "                                                 save_weights_only=True,\n",
        "                                                 verbose=1)"
      ],
      "execution_count": 0,
      "outputs": []
    },
    {
      "cell_type": "markdown",
      "metadata": {
        "id": "3JwN-Afg3FXG",
        "colab_type": "text"
      },
      "source": [
        "Fit the model"
      ]
    },
    {
      "cell_type": "code",
      "metadata": {
        "id": "bNV8UoLf2-2m",
        "colab_type": "code",
        "colab": {
          "base_uri": "https://localhost:8080/",
          "height": 528
        },
        "outputId": "083d5e17-46f0-4eee-f054-e15ac886b812"
      },
      "source": [
        "histories = model.fit(X, y, epochs=50, batch_size=128, validation_data=(X_val, y_val),callbacks=[cp_callback])"
      ],
      "execution_count": 38,
      "outputs": [
        {
          "output_type": "stream",
          "text": [
            "WARNING:tensorflow:From /usr/local/lib/python3.6/dist-packages/tensorflow_core/python/ops/math_grad.py:1424: where (from tensorflow.python.ops.array_ops) is deprecated and will be removed in a future version.\n",
            "Instructions for updating:\n",
            "Use tf.where in 2.0, which has the same broadcast rule as np.where\n",
            "WARNING:tensorflow:From /usr/local/lib/python3.6/dist-packages/keras/backend/tensorflow_backend.py:1033: The name tf.assign_add is deprecated. Please use tf.compat.v1.assign_add instead.\n",
            "\n",
            "WARNING:tensorflow:From /usr/local/lib/python3.6/dist-packages/keras/backend/tensorflow_backend.py:1020: The name tf.assign is deprecated. Please use tf.compat.v1.assign instead.\n",
            "\n",
            "WARNING:tensorflow:From /usr/local/lib/python3.6/dist-packages/keras/backend/tensorflow_backend.py:3005: The name tf.Session is deprecated. Please use tf.compat.v1.Session instead.\n",
            "\n",
            "Train on 16560 samples, validate on 11040 samples\n"
          ],
          "name": "stdout"
        },
        {
          "output_type": "error",
          "ename": "AttributeError",
          "evalue": "ignored",
          "traceback": [
            "\u001b[0;31m---------------------------------------------------------------------------\u001b[0m",
            "\u001b[0;31mAttributeError\u001b[0m                            Traceback (most recent call last)",
            "\u001b[0;32m<ipython-input-38-81a836d5040a>\u001b[0m in \u001b[0;36m<module>\u001b[0;34m()\u001b[0m\n\u001b[0;32m----> 1\u001b[0;31m \u001b[0mhistories\u001b[0m \u001b[0;34m=\u001b[0m \u001b[0mmodel\u001b[0m\u001b[0;34m.\u001b[0m\u001b[0mfit\u001b[0m\u001b[0;34m(\u001b[0m\u001b[0mX\u001b[0m\u001b[0;34m,\u001b[0m \u001b[0my\u001b[0m\u001b[0;34m,\u001b[0m \u001b[0mepochs\u001b[0m\u001b[0;34m=\u001b[0m\u001b[0;36m100\u001b[0m\u001b[0;34m,\u001b[0m \u001b[0mbatch_size\u001b[0m\u001b[0;34m=\u001b[0m\u001b[0;36m128\u001b[0m\u001b[0;34m,\u001b[0m \u001b[0mvalidation_data\u001b[0m\u001b[0;34m=\u001b[0m\u001b[0;34m(\u001b[0m\u001b[0mX_val\u001b[0m\u001b[0;34m,\u001b[0m \u001b[0my_val\u001b[0m\u001b[0;34m)\u001b[0m\u001b[0;34m,\u001b[0m\u001b[0mcallbacks\u001b[0m\u001b[0;34m=\u001b[0m\u001b[0;34m[\u001b[0m\u001b[0mcp_callback\u001b[0m\u001b[0;34m]\u001b[0m\u001b[0;34m)\u001b[0m\u001b[0;34m\u001b[0m\u001b[0;34m\u001b[0m\u001b[0m\n\u001b[0m",
            "\u001b[0;32m/usr/local/lib/python3.6/dist-packages/keras/engine/training.py\u001b[0m in \u001b[0;36mfit\u001b[0;34m(self, x, y, batch_size, epochs, verbose, callbacks, validation_split, validation_data, shuffle, class_weight, sample_weight, initial_epoch, steps_per_epoch, validation_steps, validation_freq, max_queue_size, workers, use_multiprocessing, **kwargs)\u001b[0m\n\u001b[1;32m   1176\u001b[0m                                         \u001b[0msteps_per_epoch\u001b[0m\u001b[0;34m=\u001b[0m\u001b[0msteps_per_epoch\u001b[0m\u001b[0;34m,\u001b[0m\u001b[0;34m\u001b[0m\u001b[0;34m\u001b[0m\u001b[0m\n\u001b[1;32m   1177\u001b[0m                                         \u001b[0mvalidation_steps\u001b[0m\u001b[0;34m=\u001b[0m\u001b[0mvalidation_steps\u001b[0m\u001b[0;34m,\u001b[0m\u001b[0;34m\u001b[0m\u001b[0;34m\u001b[0m\u001b[0m\n\u001b[0;32m-> 1178\u001b[0;31m                                         validation_freq=validation_freq)\n\u001b[0m\u001b[1;32m   1179\u001b[0m \u001b[0;34m\u001b[0m\u001b[0m\n\u001b[1;32m   1180\u001b[0m     def evaluate(self,\n",
            "\u001b[0;32m/usr/local/lib/python3.6/dist-packages/keras/engine/training_arrays.py\u001b[0m in \u001b[0;36mfit_loop\u001b[0;34m(model, fit_function, fit_inputs, out_labels, batch_size, epochs, verbose, callbacks, val_function, val_inputs, shuffle, callback_metrics, initial_epoch, steps_per_epoch, validation_steps, validation_freq)\u001b[0m\n\u001b[1;32m    133\u001b[0m         \u001b[0;34m'metrics'\u001b[0m\u001b[0;34m:\u001b[0m \u001b[0mcallback_metrics\u001b[0m \u001b[0;32mor\u001b[0m \u001b[0;34m[\u001b[0m\u001b[0;34m]\u001b[0m\u001b[0;34m,\u001b[0m\u001b[0;34m\u001b[0m\u001b[0;34m\u001b[0m\u001b[0m\n\u001b[1;32m    134\u001b[0m     })\n\u001b[0;32m--> 135\u001b[0;31m     \u001b[0mcallbacks\u001b[0m\u001b[0;34m.\u001b[0m\u001b[0m_call_begin_hook\u001b[0m\u001b[0;34m(\u001b[0m\u001b[0;34m'train'\u001b[0m\u001b[0;34m)\u001b[0m\u001b[0;34m\u001b[0m\u001b[0;34m\u001b[0m\u001b[0m\n\u001b[0m\u001b[1;32m    136\u001b[0m     \u001b[0mcallbacks\u001b[0m\u001b[0;34m.\u001b[0m\u001b[0mmodel\u001b[0m\u001b[0;34m.\u001b[0m\u001b[0mstop_training\u001b[0m \u001b[0;34m=\u001b[0m \u001b[0;32mFalse\u001b[0m\u001b[0;34m\u001b[0m\u001b[0;34m\u001b[0m\u001b[0m\n\u001b[1;32m    137\u001b[0m     \u001b[0;32mfor\u001b[0m \u001b[0mcbk\u001b[0m \u001b[0;32min\u001b[0m \u001b[0mcallbacks\u001b[0m\u001b[0;34m:\u001b[0m\u001b[0;34m\u001b[0m\u001b[0;34m\u001b[0m\u001b[0m\n",
            "\u001b[0;32m/usr/local/lib/python3.6/dist-packages/keras/callbacks.py\u001b[0m in \u001b[0;36m_call_begin_hook\u001b[0;34m(self, mode)\u001b[0m\n\u001b[1;32m    101\u001b[0m         \u001b[0;34m\"\"\"Helper function for on_{train|test|predict}_begin methods.\"\"\"\u001b[0m\u001b[0;34m\u001b[0m\u001b[0;34m\u001b[0m\u001b[0m\n\u001b[1;32m    102\u001b[0m         \u001b[0;32mif\u001b[0m \u001b[0mmode\u001b[0m \u001b[0;34m==\u001b[0m \u001b[0m_TRAIN\u001b[0m\u001b[0;34m:\u001b[0m\u001b[0;34m\u001b[0m\u001b[0;34m\u001b[0m\u001b[0m\n\u001b[0;32m--> 103\u001b[0;31m             \u001b[0mself\u001b[0m\u001b[0;34m.\u001b[0m\u001b[0mon_train_begin\u001b[0m\u001b[0;34m(\u001b[0m\u001b[0;34m)\u001b[0m\u001b[0;34m\u001b[0m\u001b[0;34m\u001b[0m\u001b[0m\n\u001b[0m\u001b[1;32m    104\u001b[0m         \u001b[0;32melif\u001b[0m \u001b[0mmode\u001b[0m \u001b[0;34m==\u001b[0m \u001b[0m_TEST\u001b[0m\u001b[0;34m:\u001b[0m\u001b[0;34m\u001b[0m\u001b[0;34m\u001b[0m\u001b[0m\n\u001b[1;32m    105\u001b[0m             \u001b[0mself\u001b[0m\u001b[0;34m.\u001b[0m\u001b[0mon_test_begin\u001b[0m\u001b[0;34m(\u001b[0m\u001b[0;34m)\u001b[0m\u001b[0;34m\u001b[0m\u001b[0;34m\u001b[0m\u001b[0m\n",
            "\u001b[0;32m/usr/local/lib/python3.6/dist-packages/keras/callbacks.py\u001b[0m in \u001b[0;36mon_train_begin\u001b[0;34m(self, logs)\u001b[0m\n\u001b[1;32m    217\u001b[0m         \"\"\"\n\u001b[1;32m    218\u001b[0m         \u001b[0;32mfor\u001b[0m \u001b[0mcallback\u001b[0m \u001b[0;32min\u001b[0m \u001b[0mself\u001b[0m\u001b[0;34m.\u001b[0m\u001b[0mcallbacks\u001b[0m\u001b[0;34m:\u001b[0m\u001b[0;34m\u001b[0m\u001b[0;34m\u001b[0m\u001b[0m\n\u001b[0;32m--> 219\u001b[0;31m             \u001b[0mcallback\u001b[0m\u001b[0;34m.\u001b[0m\u001b[0mon_train_begin\u001b[0m\u001b[0;34m(\u001b[0m\u001b[0mlogs\u001b[0m\u001b[0;34m)\u001b[0m\u001b[0;34m\u001b[0m\u001b[0;34m\u001b[0m\u001b[0m\n\u001b[0m\u001b[1;32m    220\u001b[0m \u001b[0;34m\u001b[0m\u001b[0m\n\u001b[1;32m    221\u001b[0m     \u001b[0;32mdef\u001b[0m \u001b[0mon_train_end\u001b[0m\u001b[0;34m(\u001b[0m\u001b[0mself\u001b[0m\u001b[0;34m,\u001b[0m \u001b[0mlogs\u001b[0m\u001b[0;34m=\u001b[0m\u001b[0;32mNone\u001b[0m\u001b[0;34m)\u001b[0m\u001b[0;34m:\u001b[0m\u001b[0;34m\u001b[0m\u001b[0;34m\u001b[0m\u001b[0m\n",
            "\u001b[0;32m/usr/local/lib/python3.6/dist-packages/tensorflow_core/python/keras/callbacks.py\u001b[0m in \u001b[0;36mon_train_begin\u001b[0;34m(self, logs)\u001b[0m\n\u001b[1;32m    903\u001b[0m   \u001b[0;32mdef\u001b[0m \u001b[0mon_train_begin\u001b[0m\u001b[0;34m(\u001b[0m\u001b[0mself\u001b[0m\u001b[0;34m,\u001b[0m \u001b[0mlogs\u001b[0m\u001b[0;34m=\u001b[0m\u001b[0;32mNone\u001b[0m\u001b[0;34m)\u001b[0m\u001b[0;34m:\u001b[0m\u001b[0;34m\u001b[0m\u001b[0;34m\u001b[0m\u001b[0m\n\u001b[1;32m    904\u001b[0m     \u001b[0;31m# pylint: disable=protected-access\u001b[0m\u001b[0;34m\u001b[0m\u001b[0;34m\u001b[0m\u001b[0;34m\u001b[0m\u001b[0m\n\u001b[0;32m--> 905\u001b[0;31m     \u001b[0;32mif\u001b[0m \u001b[0mself\u001b[0m\u001b[0;34m.\u001b[0m\u001b[0mmodel\u001b[0m\u001b[0;34m.\u001b[0m\u001b[0m_in_multi_worker_mode\u001b[0m\u001b[0;34m(\u001b[0m\u001b[0;34m)\u001b[0m\u001b[0;34m:\u001b[0m\u001b[0;34m\u001b[0m\u001b[0;34m\u001b[0m\u001b[0m\n\u001b[0m\u001b[1;32m    906\u001b[0m       \u001b[0;31m# MultiWorkerTrainingState is used to manage the training state needed\u001b[0m\u001b[0;34m\u001b[0m\u001b[0;34m\u001b[0m\u001b[0;34m\u001b[0m\u001b[0m\n\u001b[1;32m    907\u001b[0m       \u001b[0;31m# for preemption-recovery of a worker in multi-worker training.\u001b[0m\u001b[0;34m\u001b[0m\u001b[0;34m\u001b[0m\u001b[0;34m\u001b[0m\u001b[0m\n",
            "\u001b[0;31mAttributeError\u001b[0m: 'Sequential' object has no attribute '_in_multi_worker_mode'"
          ]
        }
      ]
    },
    {
      "cell_type": "code",
      "metadata": {
        "id": "S5a2sQvi9KUS",
        "colab_type": "code",
        "colab": {}
      },
      "source": [
        "model.save('my_model.h5')"
      ],
      "execution_count": 0,
      "outputs": []
    },
    {
      "cell_type": "code",
      "metadata": {
        "id": "ieeJCPM39N4f",
        "colab_type": "code",
        "outputId": "6c7767da-c486-491e-8868-9160381204fd",
        "colab": {
          "base_uri": "https://localhost:8080/",
          "height": 466
        }
      },
      "source": [
        "# Recreate the exact same model, including its weights and the optimizer\n",
        "model = tf.keras.models.load_model('my_model.h5')\n",
        "\n",
        "# Show the model architecture\n",
        "model.summary()"
      ],
      "execution_count": 0,
      "outputs": [
        {
          "output_type": "stream",
          "text": [
            "WARNING:tensorflow:From /usr/local/lib/python3.6/dist-packages/tensorflow_core/python/ops/resource_variable_ops.py:1630: calling BaseResourceVariable.__init__ (from tensorflow.python.ops.resource_variable_ops) with constraint is deprecated and will be removed in a future version.\n",
            "Instructions for updating:\n",
            "If using Keras pass *_constraint arguments to layers.\n",
            "WARNING:tensorflow:From /usr/local/lib/python3.6/dist-packages/tensorflow_core/python/ops/math_grad.py:1424: where (from tensorflow.python.ops.array_ops) is deprecated and will be removed in a future version.\n",
            "Instructions for updating:\n",
            "Use tf.where in 2.0, which has the same broadcast rule as np.where\n",
            "Model: \"sequential_1\"\n",
            "_________________________________________________________________\n",
            "Layer (type)                 Output Shape              Param #   \n",
            "=================================================================\n",
            "lstm_1 (LSTM)                (None, 3, 512)            1052672   \n",
            "_________________________________________________________________\n",
            "dropout_1 (Dropout)          (None, 3, 512)            0         \n",
            "_________________________________________________________________\n",
            "lstm_2 (LSTM)                (None, 512)               2099200   \n",
            "_________________________________________________________________\n",
            "dropout_2 (Dropout)          (None, 512)               0         \n",
            "_________________________________________________________________\n",
            "dense_1 (Dense)              (None, 1011)              518643    \n",
            "=================================================================\n",
            "Total params: 3,670,515\n",
            "Trainable params: 3,670,515\n",
            "Non-trainable params: 0\n",
            "_________________________________________________________________\n"
          ],
          "name": "stdout"
        }
      ]
    },
    {
      "cell_type": "code",
      "metadata": {
        "id": "i9CyAQuj0gx8",
        "colab_type": "code",
        "colab": {}
      },
      "source": [
        "plot_history([('baseline', histories)])"
      ],
      "execution_count": 0,
      "outputs": []
    },
    {
      "cell_type": "code",
      "metadata": {
        "id": "M_7v2NesY8_M",
        "colab_type": "code",
        "colab": {}
      },
      "source": [
        "word_dict"
      ],
      "execution_count": 0,
      "outputs": []
    },
    {
      "cell_type": "code",
      "metadata": {
        "id": "_QaD5lc5aM9f",
        "colab_type": "code",
        "colab": {}
      },
      "source": [
        "def generateTweet(fileN):\n",
        "  start = np.random.randint(0, len(initial_word)-1)\n",
        "  seed_text = initial_word[start]\n",
        "  print(seed_text)\n",
        "  seed = [word_dict[word] for word in seed_text]\n",
        "  #print(seed)\n",
        "  generatedTextList= seed_text\n",
        "  flag = True\n",
        "  #print(generatedTextList)\n",
        "  count=0\n",
        "\n",
        "  while (flag):\n",
        "    x = np.reshape(seed, (1, len(seed), 1))\n",
        "    x = x / float(len(set(total_words)))\n",
        "    prediction = model.predict(x, verbose=0)\n",
        "    index = np.argmax(prediction)\n",
        "  #             result = datay_word[index]\n",
        "    result = int_to_word[index]\n",
        "    generatedTextList.append(result)\n",
        "    seq_in = [int_to_word[value] for value in seed]\n",
        "  #         sys.stdout.write(result+ \" \")\n",
        "  #         print(result+ \" \",end=\"\")\n",
        "    seed.append(index)\n",
        "    seed = seed[1:len(seed)]\n",
        "    if result == \"\\n\" or count==15:\n",
        "        flag = False\n",
        "    count+=1\n",
        "\n",
        "  print(generatedTextList, file = fileN)\n",
        "  print(generatedTextList)"
      ],
      "execution_count": 0,
      "outputs": []
    },
    {
      "cell_type": "code",
      "metadata": {
        "id": "huMNJV_spth6",
        "colab_type": "code",
        "colab": {}
      },
      "source": [
        "fileN=open(\"generatedText.txt\",\"w\")\n",
        "for _ in range(500):\n",
        "  generateTweet(fileN)\n",
        "fileN.close()"
      ],
      "execution_count": 0,
      "outputs": []
    },
    {
      "cell_type": "code",
      "metadata": {
        "id": "qsyU0ZvPukUw",
        "colab_type": "code",
        "colab": {}
      },
      "source": [
        "import numpy as np\n",
        "from sklearn.model_selection import KFold\n",
        "\n",
        "X = np.array([[1, 2], [3, 4], [1, 2], [3, 4]])\n",
        "y = np.array([1, 2, 3, 4])\n",
        "kf = KFold(n_splits=2)\n",
        "kf.get_n_splits(X)"
      ],
      "execution_count": 0,
      "outputs": []
    }
  ]
}