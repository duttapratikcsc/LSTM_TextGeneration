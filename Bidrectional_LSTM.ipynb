{
  "nbformat": 4,
  "nbformat_minor": 0,
  "metadata": {
    "colab": {
      "name": "Bidirectional_LSTM.ipynb",
      "provenance": [],
      "collapsed_sections": [],
      "toc_visible": true,
      "include_colab_link": true
    },
    "kernelspec": {
      "name": "python3",
      "display_name": "Python 3"
    }
  },
  "cells": [
    {
      "cell_type": "markdown",
      "metadata": {
        "id": "view-in-github",
        "colab_type": "text"
      },
      "source": [
        "<a href=\"https://colab.research.google.com/github/duttapratikcsc/LSTM_TextGeneration/blob/master/Bidrectional_LSTM.ipynb\" target=\"_parent\"><img src=\"https://colab.research.google.com/assets/colab-badge.svg\" alt=\"Open In Colab\"/></a>"
      ]
    },
    {
      "cell_type": "code",
      "metadata": {
        "id": "4cVv305IpFOm",
        "colab_type": "code",
        "outputId": "b6d6c6f4-78b6-4e90-fc10-047795edfb00",
        "colab": {
          "base_uri": "https://localhost:8080/",
          "height": 35
        }
      },
      "source": [
        "import sys, os\n",
        "import numpy as np\n",
        "from tensorflow import keras\n",
        "from keras.models import Sequential\n",
        "from keras.layers import Dense\n",
        "from keras.layers import Dropout\n",
        "from keras.layers import LSTM, Bidirectional\n",
        "# from keras.callbacks import ModelCheckpoint\n",
        "from keras.utils import np_utils\n",
        "from random import random\n",
        "try:\n",
        "  # %tensorflow_version only exists in Colab.\n",
        "  %tensorflow_version 2.x\n",
        "except Exception:\n",
        "  pass\n",
        "import tensorflow as tf\n",
        "\n",
        "import pandas as pd\n",
        "import numpy as np\n",
        "import matplotlib.pyplot as plt\n",
        "from sklearn.model_selection import train_test_split\n",
        "from keras.callbacks import ModelCheckpoint"
      ],
      "execution_count": 39,
      "outputs": [
        {
          "output_type": "stream",
          "text": [
            "TensorFlow is already loaded. Please restart the runtime to change versions.\n"
          ],
          "name": "stdout"
        }
      ]
    },
    {
      "cell_type": "markdown",
      "metadata": {
        "id": "kc9MWQckys_5",
        "colab_type": "text"
      },
      "source": [
        "# Get List of Words from Corpus "
      ]
    },
    {
      "cell_type": "code",
      "metadata": {
        "id": "abejn2bUpN6T",
        "colab_type": "code",
        "colab": {}
      },
      "source": [
        "def get_Word(fp):\n",
        "    word = []\n",
        "    raw_text = open(fp).read().lower()\n",
        "    raw_text = raw_text.split(\"\\n\")\n",
        "    for row in raw_text:\n",
        "        temp = row.split(\" \")\n",
        "        for i in range(len(temp)):\n",
        "            word.append(temp[i])\n",
        "    word.append(\"\\n\")\n",
        "    print(\"Length of total word_list:-\", len(word))\n",
        "    return(word)"
      ],
      "execution_count": 0,
      "outputs": []
    },
    {
      "cell_type": "code",
      "metadata": {
        "id": "Ri_4xOH9phYj",
        "colab_type": "code",
        "outputId": "68cf7989-0e38-4f5a-dd5b-70c916c5b902",
        "colab": {
          "base_uri": "https://localhost:8080/",
          "height": 35
        }
      },
      "source": [
        "filename = 'class_3_p.csv'\n",
        "seq = 3\n",
        "total_words = get_Word(filename)"
      ],
      "execution_count": 3,
      "outputs": [
        {
          "output_type": "stream",
          "text": [
            "Length of total word_list:- 30874\n"
          ],
          "name": "stdout"
        }
      ]
    },
    {
      "cell_type": "markdown",
      "metadata": {
        "id": "maUhvbzr0M5v",
        "colab_type": "text"
      },
      "source": [
        "Get Initial n-grams as well as last word for text generation"
      ]
    },
    {
      "cell_type": "code",
      "metadata": {
        "id": "iiDKURGR0HHL",
        "colab_type": "code",
        "colab": {}
      },
      "source": [
        "def get_initial_last_Word(fp, seq_no):\n",
        "    initial_word = []\n",
        "    last_word = []\n",
        "\n",
        "    raw_text = open(fp).readlines()\n",
        "    for row in raw_text:\n",
        "        temp= row.split(\" \")\n",
        "        temp_word = \"\"\n",
        "        for index in range(0, seq_no):\n",
        "            temp_word += temp[0+index]+\" \"\n",
        "        initial_word.append(temp_word.rstrip(\" \"))\n",
        "        last_word.append(temp[-1].replace(\"\\n\",\"\"))\n",
        "    \n",
        "    dami = list(set(initial_word))\n",
        "    dx = [x.split(\" \") for x in dami]\n",
        "    return(dx, list(set(last_word)))"
      ],
      "execution_count": 0,
      "outputs": []
    },
    {
      "cell_type": "markdown",
      "metadata": {
        "id": "c03fRAj6zhXN",
        "colab_type": "text"
      },
      "source": [
        "# Generate Word to Integer and Vice-versa for Embedding"
      ]
    },
    {
      "cell_type": "code",
      "metadata": {
        "id": "dGgwVNez_hKy",
        "colab_type": "code",
        "colab": {}
      },
      "source": [
        "#First create a set of all of the distinct words,\n",
        "# then creating a map of each word to a unique integer.\n",
        "def get_Word_dict(word_list):\n",
        "    uniq_word = sorted(list(set(word_list)))\n",
        "    uniqword_to_int = dict((c, i) for i, c in enumerate(uniq_word))\n",
        "    print(\"Total no. Words:- \", len(word_list))\n",
        "    print(\"Total no. of unique words:- \", len(uniq_word))\n",
        "    return(uniqword_to_int)\n",
        "\n",
        "def get_int_to_word(word_list):\n",
        "    uniq_word = sorted(list(set(word_list)))\n",
        "    int_to_word = dict((i, c) for i, c in enumerate(uniq_word))\n",
        "    return(int_to_word)"
      ],
      "execution_count": 0,
      "outputs": []
    },
    {
      "cell_type": "code",
      "metadata": {
        "id": "_hJ0U5DDpjcr",
        "colab_type": "code",
        "outputId": "d87c6406-78c7-45eb-8c9e-6d4e42e85c96",
        "colab": {
          "base_uri": "https://localhost:8080/",
          "height": 54
        }
      },
      "source": [
        "word_dict = get_Word_dict(total_words)\n",
        "int_to_word = get_int_to_word(total_words)\n",
        "initial_word, last_word = get_initial_last_Word(filename, seq)\n",
        "fileNN=open(\"initialWords.txt\",\"w\")\n",
        "print(initial_word,file=fileNN)\n",
        "fileNN.close()"
      ],
      "execution_count": 74,
      "outputs": [
        {
          "output_type": "stream",
          "text": [
            "Total no. Words:-  30874\n",
            "Total no. of unique words:-  1011\n"
          ],
          "name": "stdout"
        }
      ]
    },
    {
      "cell_type": "markdown",
      "metadata": {
        "id": "-oOHjCGGztNK",
        "colab_type": "text"
      },
      "source": [
        "# Pre Processing of Data\n",
        "Prepare the dataset of input to output pairs encoded as integers"
      ]
    },
    {
      "cell_type": "code",
      "metadata": {
        "id": "seyhg4gz_n-m",
        "colab_type": "code",
        "colab": {}
      },
      "source": [
        "# prepare the dataset of input to output pairs encoded as integers\n",
        "def Data_Preprocessing(fp, seq_no, word_dict):\n",
        "    datax = []\n",
        "    datay = []\n",
        "    datay_word = []\n",
        "    raw_text = open(fp).read().lower()\n",
        "    raw_text = raw_text.split(\"\\n\")\n",
        "    fdatax = open('data_input.csv', \"w\")\n",
        "    fdatax_2 = open('data_input_string.csv', \"w\")\n",
        "    for row in raw_text:\n",
        "        temp = (row +\" \\n\").split(\" \")\n",
        "        for i in range(len(temp)-seq_no):\n",
        "            temp_word = str(temp[i])\n",
        "            temp_word_int = str(word_dict[temp[i]])\n",
        "            for index in range(1, seq_no+1):\n",
        "                temp_word += \",\"+str(temp[i+index])\n",
        "                temp_word_int += \",\"+str(word_dict[temp[i+index]])\n",
        "            print(temp_word,file=fdatax_2)\n",
        "            print(temp_word_int,file=fdatax)\n",
        "    fdatax.close()\n",
        "    fdatax_2.close()\n",
        "    names = [str(i) for i in range(seq_no+1)]\n",
        "    datax = pd.read_csv(\"data_input.csv\",names=names)\n",
        "    datax_2 = datax/len(word_dict)\n",
        "    names = [str(i) for i in range(seq_no)]\n",
        "    r = datax_2[names]\n",
        "    s = datax[[str(seq_no)]] \n",
        "    return(r, s,datax)"
      ],
      "execution_count": 0,
      "outputs": []
    },
    {
      "cell_type": "code",
      "metadata": {
        "id": "cvoD8Fq01qu0",
        "colab_type": "code",
        "colab": {
          "base_uri": "https://localhost:8080/",
          "height": 54
        },
        "outputId": "d45076c1-8862-4f8f-bfb6-8c969ed9d1bd"
      },
      "source": [
        "datax, datay,total_dataset = Data_Preprocessing(filename, seq, word_dict)\n",
        "no_patterns = len(datax)\n",
        "\n",
        "print(\"datax: \", datax.shape)\n",
        "print(\"datay: \", datay.shape)"
      ],
      "execution_count": 9,
      "outputs": [
        {
          "output_type": "stream",
          "text": [
            "datax:  (27600, 3)\n",
            "datay:  (27600, 1)\n"
          ],
          "name": "stdout"
        }
      ]
    },
    {
      "cell_type": "code",
      "metadata": {
        "id": "TqX7vbgapoOq",
        "colab_type": "code",
        "outputId": "242c8ccc-b207-4dcd-dac4-078ad5d31241",
        "colab": {
          "base_uri": "https://localhost:8080/",
          "height": 90
        }
      },
      "source": [
        "X_train, X_val, y_train, y_val = train_test_split(datax,datay,test_size = 0.4)\n",
        "print(\"X_train: \", X_train.shape)\n",
        "print(\"X_val: \", X_val.shape)\n",
        "print(\"Y_train: \", y_train.shape)\n",
        "print(\"Y_val: \", y_val.shape)"
      ],
      "execution_count": 10,
      "outputs": [
        {
          "output_type": "stream",
          "text": [
            "X_train:  (16560, 3)\n",
            "X_val:  (11040, 3)\n",
            "Y_train:  (16560, 1)\n",
            "Y_val:  (11040, 1)\n"
          ],
          "name": "stdout"
        }
      ]
    },
    {
      "cell_type": "markdown",
      "metadata": {
        "id": "OnTSl8QE0dbl",
        "colab_type": "text"
      },
      "source": [
        "Generate Caterogical One-hot Encodding for Output Layer"
      ]
    },
    {
      "cell_type": "code",
      "metadata": {
        "id": "OkXKqcRx0cqI",
        "colab_type": "code",
        "colab": {}
      },
      "source": [
        "def create_categorical(y, total_no_words):\n",
        "    categorical_data = np.zeros((len(y), total_no_words))\n",
        "    print(len(y))\n",
        "    for row in range(len(y)):\n",
        "        temp = y[row]\n",
        "        categorical_data[row][temp] = 1\n",
        "    print(categorical_data)\n",
        "    return(categorical_data) "
      ],
      "execution_count": 0,
      "outputs": []
    },
    {
      "cell_type": "code",
      "metadata": {
        "id": "33IChxolqPoZ",
        "colab_type": "code",
        "outputId": "cf917a2e-25ea-4674-b5ea-e67afe7d0bef",
        "colab": {
          "base_uri": "https://localhost:8080/",
          "height": 164
        }
      },
      "source": [
        "X = np.reshape(X_train.to_numpy(), (len(X_train), seq, 1))\n",
        "y = create_categorical(y_train.to_numpy(), len(set(total_words)))"
      ],
      "execution_count": 29,
      "outputs": [
        {
          "output_type": "stream",
          "text": [
            "16560\n",
            "[[0. 0. 0. ... 0. 0. 0.]\n",
            " [0. 0. 0. ... 0. 0. 0.]\n",
            " [0. 0. 0. ... 0. 0. 0.]\n",
            " ...\n",
            " [0. 0. 0. ... 0. 0. 0.]\n",
            " [0. 0. 0. ... 0. 0. 0.]\n",
            " [0. 0. 0. ... 0. 0. 0.]]\n"
          ],
          "name": "stdout"
        }
      ]
    },
    {
      "cell_type": "code",
      "metadata": {
        "id": "uDW0KrHT0T_V",
        "colab_type": "code",
        "outputId": "8df698fe-341c-4a07-cc3d-8b00e8b181e7",
        "colab": {
          "base_uri": "https://localhost:8080/",
          "height": 164
        }
      },
      "source": [
        "X_val = np.reshape(X_val.to_numpy(), (len(X_val), seq, 1))\n",
        "y_val = create_categorical(y_val.to_numpy(), len(set(total_words)))"
      ],
      "execution_count": 13,
      "outputs": [
        {
          "output_type": "stream",
          "text": [
            "11040\n",
            "[[0. 0. 0. ... 0. 0. 0.]\n",
            " [0. 0. 0. ... 0. 0. 0.]\n",
            " [0. 0. 0. ... 0. 0. 0.]\n",
            " ...\n",
            " [0. 1. 0. ... 0. 0. 0.]\n",
            " [0. 0. 0. ... 0. 0. 0.]\n",
            " [0. 0. 0. ... 0. 0. 0.]]\n"
          ],
          "name": "stdout"
        }
      ]
    },
    {
      "cell_type": "code",
      "metadata": {
        "id": "G63ArUra0Ydr",
        "colab_type": "code",
        "outputId": "5382608b-73a3-41fe-b9ea-7c3687c6a57c",
        "colab": {
          "base_uri": "https://localhost:8080/",
          "height": 35
        }
      },
      "source": [
        "print(y.shape)"
      ],
      "execution_count": 28,
      "outputs": [
        {
          "output_type": "stream",
          "text": [
            "(16560, 1011)\n"
          ],
          "name": "stdout"
        }
      ]
    },
    {
      "cell_type": "markdown",
      "metadata": {
        "id": "imxAa3iHzGEi",
        "colab_type": "text"
      },
      "source": [
        "\n",
        "### Plot Generation of Validation vs Train"
      ]
    },
    {
      "cell_type": "code",
      "metadata": {
        "id": "Ov9wGWeNpY8E",
        "colab_type": "code",
        "colab": {}
      },
      "source": [
        "def plot_history(histories, key='categorical_crossentropy'):\n",
        "  plt.figure(figsize=(16,10))\n",
        "\n",
        "  for name, history in histories:\n",
        "    val = plt.plot(history.epoch, history.history['val_'+key],\n",
        "                   '--', label=name.title()+' Val')\n",
        "    plt.plot(history.epoch, history.history[key], color=val[0].get_color(),\n",
        "             label=name.title()+' Train')\n",
        "  plt.xlabel('Epochs')\n",
        "  plt.ylabel(key.replace('_',' ').title())\n",
        "  plt.legend()\n",
        "  plt.xlim([0,max(history.epoch)])"
      ],
      "execution_count": 0,
      "outputs": []
    },
    {
      "cell_type": "markdown",
      "metadata": {
        "id": "J6aOyibpy8qy",
        "colab_type": "text"
      },
      "source": [
        "# Bidirectional LSTM Model Creation"
      ]
    },
    {
      "cell_type": "code",
      "metadata": {
        "id": "mgptRTXapTvb",
        "colab_type": "code",
        "colab": {}
      },
      "source": [
        "def createModel(X,y):\n",
        "  model = Sequential()\n",
        "  model.add(Bidirectional(LSTM(512, return_sequences=True),input_shape=(X.shape[1], X.shape[2])))\n",
        "  model.add(Dropout(0.2))\n",
        "  model.add(Bidirectional(LSTM(512)))\n",
        "  model.add(Dropout(0.2))\n",
        "  model.add(Dense(y.shape[1], activation='softmax'))\n",
        "  model.compile(loss='categorical_crossentropy', optimizer='adam',metrics=['accuracy', 'categorical_crossentropy'])\n",
        "  model.summary()\n",
        "  return model"
      ],
      "execution_count": 0,
      "outputs": []
    },
    {
      "cell_type": "markdown",
      "metadata": {
        "id": "qeVbCgU93AZn",
        "colab_type": "text"
      },
      "source": [
        "Create Bidirectional Model"
      ]
    },
    {
      "cell_type": "code",
      "metadata": {
        "id": "aZseIVbCpp96",
        "colab_type": "code",
        "colab": {
          "base_uri": "https://localhost:8080/",
          "height": 570
        },
        "outputId": "1c6fd15a-78d6-482c-b306-fbefbc6c07e8"
      },
      "source": [
        "model = createModel(X, y)"
      ],
      "execution_count": 31,
      "outputs": [
        {
          "output_type": "stream",
          "text": [
            "WARNING:tensorflow:From /usr/local/lib/python3.6/dist-packages/keras/backend/tensorflow_backend.py:541: The name tf.placeholder is deprecated. Please use tf.compat.v1.placeholder instead.\n",
            "\n",
            "WARNING:tensorflow:From /usr/local/lib/python3.6/dist-packages/keras/backend/tensorflow_backend.py:4432: The name tf.random_uniform is deprecated. Please use tf.random.uniform instead.\n",
            "\n",
            "WARNING:tensorflow:From /usr/local/lib/python3.6/dist-packages/keras/backend/tensorflow_backend.py:148: The name tf.placeholder_with_default is deprecated. Please use tf.compat.v1.placeholder_with_default instead.\n",
            "\n",
            "WARNING:tensorflow:From /usr/local/lib/python3.6/dist-packages/keras/backend/tensorflow_backend.py:3733: calling dropout (from tensorflow.python.ops.nn_ops) with keep_prob is deprecated and will be removed in a future version.\n",
            "Instructions for updating:\n",
            "Please use `rate` instead of `keep_prob`. Rate should be set to `rate = 1 - keep_prob`.\n",
            "WARNING:tensorflow:From /usr/local/lib/python3.6/dist-packages/keras/backend/tensorflow_backend.py:3576: The name tf.log is deprecated. Please use tf.math.log instead.\n",
            "\n",
            "Model: \"sequential_5\"\n",
            "_________________________________________________________________\n",
            "Layer (type)                 Output Shape              Param #   \n",
            "=================================================================\n",
            "bidirectional_9 (Bidirection (None, 3, 1024)           2105344   \n",
            "_________________________________________________________________\n",
            "dropout_9 (Dropout)          (None, 3, 1024)           0         \n",
            "_________________________________________________________________\n",
            "bidirectional_10 (Bidirectio (None, 1024)              6295552   \n",
            "_________________________________________________________________\n",
            "dropout_10 (Dropout)         (None, 1024)              0         \n",
            "_________________________________________________________________\n",
            "dense_5 (Dense)              (None, 1011)              1036275   \n",
            "=================================================================\n",
            "Total params: 9,437,171\n",
            "Trainable params: 9,437,171\n",
            "Non-trainable params: 0\n",
            "_________________________________________________________________\n"
          ],
          "name": "stdout"
        }
      ]
    },
    {
      "cell_type": "markdown",
      "metadata": {
        "id": "Ja1SqSLc5vlf",
        "colab_type": "text"
      },
      "source": [
        "## Save checkpoints during training\n",
        "### Checkpoint callback usage"
      ]
    },
    {
      "cell_type": "code",
      "metadata": {
        "id": "SK9y9iC-6NZe",
        "colab_type": "code",
        "colab": {}
      },
      "source": [
        "checkpoint_folder = \"training_1\"\n",
        "checkpoint_path = checkpoint_folder+\"/cp.ckpt\"\n",
        "checkpoint_dir = os.path.dirname(checkpoint_path)\n",
        "try:\n",
        "  os.mkdir(checkpoint_folder)\n",
        "except:\n",
        "  pass"
      ],
      "execution_count": 0,
      "outputs": []
    },
    {
      "cell_type": "code",
      "metadata": {
        "id": "snnAkmg_6xPh",
        "colab_type": "code",
        "colab": {}
      },
      "source": [
        "!ls {checkpoint_folder}"
      ],
      "execution_count": 0,
      "outputs": []
    },
    {
      "cell_type": "markdown",
      "metadata": {
        "id": "J_gGjURc7AVa",
        "colab_type": "text"
      },
      "source": [
        "### Create a callback that saves the model's weights"
      ]
    },
    {
      "cell_type": "code",
      "metadata": {
        "id": "jiPijKTw58-c",
        "colab_type": "code",
        "colab": {}
      },
      "source": [
        "cp_callback = ModelCheckpoint(filepath=checkpoint_path,\n",
        "                                                 save_weights_only=True,\n",
        "                                                 verbose=1)"
      ],
      "execution_count": 0,
      "outputs": []
    },
    {
      "cell_type": "markdown",
      "metadata": {
        "id": "3JwN-Afg3FXG",
        "colab_type": "text"
      },
      "source": [
        "Fit the model"
      ]
    },
    {
      "cell_type": "code",
      "metadata": {
        "id": "bNV8UoLf2-2m",
        "colab_type": "code",
        "colab": {
          "base_uri": "https://localhost:8080/",
          "height": 1000
        },
        "outputId": "c950b801-1c25-4ad8-8f8d-dec3bafb6a9e"
      },
      "source": [
        "histories = model.fit(X, y, epochs=50, batch_size=128, validation_data=(X_val, y_val),callbacks=[cp_callback])"
      ],
      "execution_count": 42,
      "outputs": [
        {
          "output_type": "stream",
          "text": [
            "Train on 16560 samples, validate on 11040 samples\n",
            "Epoch 1/50\n",
            "WARNING:tensorflow:From /usr/local/lib/python3.6/dist-packages/keras/backend/tensorflow_backend.py:190: The name tf.get_default_session is deprecated. Please use tf.compat.v1.get_default_session instead.\n",
            "\n",
            "WARNING:tensorflow:From /usr/local/lib/python3.6/dist-packages/keras/backend/tensorflow_backend.py:197: The name tf.ConfigProto is deprecated. Please use tf.compat.v1.ConfigProto instead.\n",
            "\n",
            "WARNING:tensorflow:From /usr/local/lib/python3.6/dist-packages/keras/backend/tensorflow_backend.py:207: The name tf.global_variables is deprecated. Please use tf.compat.v1.global_variables instead.\n",
            "\n",
            "WARNING:tensorflow:From /usr/local/lib/python3.6/dist-packages/keras/backend/tensorflow_backend.py:216: The name tf.is_variable_initialized is deprecated. Please use tf.compat.v1.is_variable_initialized instead.\n",
            "\n",
            "WARNING:tensorflow:From /usr/local/lib/python3.6/dist-packages/keras/backend/tensorflow_backend.py:223: The name tf.variables_initializer is deprecated. Please use tf.compat.v1.variables_initializer instead.\n",
            "\n",
            "16560/16560 [==============================] - 122s 7ms/step - loss: 4.3228 - acc: 0.1123 - categorical_crossentropy: 4.3228 - val_loss: 3.7100 - val_acc: 0.3329 - val_categorical_crossentropy: 3.7100\n",
            "\n",
            "Epoch 00001: saving model to training_1/cp.ckpt\n",
            "Epoch 2/50\n",
            "16560/16560 [==============================] - 117s 7ms/step - loss: 3.2631 - acc: 0.3719 - categorical_crossentropy: 3.2631 - val_loss: 2.9749 - val_acc: 0.4262 - val_categorical_crossentropy: 2.9749\n",
            "\n",
            "Epoch 00002: saving model to training_1/cp.ckpt\n",
            "Epoch 3/50\n",
            "16560/16560 [==============================] - 118s 7ms/step - loss: 2.7430 - acc: 0.4546 - categorical_crossentropy: 2.7430 - val_loss: 2.7518 - val_acc: 0.4716 - val_categorical_crossentropy: 2.7518\n",
            "\n",
            "Epoch 00003: saving model to training_1/cp.ckpt\n",
            "Epoch 4/50\n",
            "16560/16560 [==============================] - 118s 7ms/step - loss: 2.5082 - acc: 0.4916 - categorical_crossentropy: 2.5082 - val_loss: 2.6321 - val_acc: 0.5001 - val_categorical_crossentropy: 2.6321\n",
            "\n",
            "Epoch 00004: saving model to training_1/cp.ckpt\n",
            "Epoch 5/50\n",
            "16560/16560 [==============================] - 120s 7ms/step - loss: 2.3660 - acc: 0.5067 - categorical_crossentropy: 2.3660 - val_loss: 2.4913 - val_acc: 0.5294 - val_categorical_crossentropy: 2.4913\n",
            "\n",
            "Epoch 00005: saving model to training_1/cp.ckpt\n",
            "Epoch 6/50\n",
            "16560/16560 [==============================] - 119s 7ms/step - loss: 2.2220 - acc: 0.5346 - categorical_crossentropy: 2.2220 - val_loss: 2.4432 - val_acc: 0.5416 - val_categorical_crossentropy: 2.4432\n",
            "\n",
            "Epoch 00006: saving model to training_1/cp.ckpt\n",
            "Epoch 7/50\n",
            "16560/16560 [==============================] - 120s 7ms/step - loss: 2.1181 - acc: 0.5486 - categorical_crossentropy: 2.1181 - val_loss: 2.3503 - val_acc: 0.5653 - val_categorical_crossentropy: 2.3503\n",
            "\n",
            "Epoch 00007: saving model to training_1/cp.ckpt\n",
            "Epoch 8/50\n",
            "16560/16560 [==============================] - 121s 7ms/step - loss: 2.0052 - acc: 0.5673 - categorical_crossentropy: 2.0052 - val_loss: 2.2955 - val_acc: 0.5714 - val_categorical_crossentropy: 2.2955\n",
            "\n",
            "Epoch 00008: saving model to training_1/cp.ckpt\n",
            "Epoch 9/50\n",
            "16560/16560 [==============================] - 122s 7ms/step - loss: 1.9185 - acc: 0.5746 - categorical_crossentropy: 1.9185 - val_loss: 2.2801 - val_acc: 0.5761 - val_categorical_crossentropy: 2.2801\n",
            "\n",
            "Epoch 00009: saving model to training_1/cp.ckpt\n",
            "Epoch 10/50\n",
            "16560/16560 [==============================] - 124s 7ms/step - loss: 1.8556 - acc: 0.5838 - categorical_crossentropy: 1.8556 - val_loss: 2.2261 - val_acc: 0.5892 - val_categorical_crossentropy: 2.2261\n",
            "\n",
            "Epoch 00010: saving model to training_1/cp.ckpt\n",
            "Epoch 11/50\n",
            "16560/16560 [==============================] - 123s 7ms/step - loss: 1.7856 - acc: 0.5950 - categorical_crossentropy: 1.7856 - val_loss: 2.1959 - val_acc: 0.5970 - val_categorical_crossentropy: 2.1959\n",
            "\n",
            "Epoch 00011: saving model to training_1/cp.ckpt\n",
            "Epoch 12/50\n",
            "16560/16560 [==============================] - 124s 7ms/step - loss: 1.7494 - acc: 0.5959 - categorical_crossentropy: 1.7494 - val_loss: 2.1806 - val_acc: 0.6002 - val_categorical_crossentropy: 2.1806\n",
            "\n",
            "Epoch 00012: saving model to training_1/cp.ckpt\n",
            "Epoch 13/50\n",
            "16560/16560 [==============================] - 124s 7ms/step - loss: 1.7094 - acc: 0.5989 - categorical_crossentropy: 1.7094 - val_loss: 2.1960 - val_acc: 0.5984 - val_categorical_crossentropy: 2.1960\n",
            "\n",
            "Epoch 00013: saving model to training_1/cp.ckpt\n",
            "Epoch 14/50\n",
            "16560/16560 [==============================] - 122s 7ms/step - loss: 1.6846 - acc: 0.6003 - categorical_crossentropy: 1.6846 - val_loss: 2.1886 - val_acc: 0.5947 - val_categorical_crossentropy: 2.1886\n",
            "\n",
            "Epoch 00014: saving model to training_1/cp.ckpt\n",
            "Epoch 15/50\n",
            "16560/16560 [==============================] - 119s 7ms/step - loss: 1.6353 - acc: 0.6089 - categorical_crossentropy: 1.6353 - val_loss: 2.1493 - val_acc: 0.6127 - val_categorical_crossentropy: 2.1493\n",
            "\n",
            "Epoch 00015: saving model to training_1/cp.ckpt\n",
            "Epoch 16/50\n",
            "16560/16560 [==============================] - 121s 7ms/step - loss: 1.5969 - acc: 0.6143 - categorical_crossentropy: 1.5969 - val_loss: 2.1545 - val_acc: 0.6039 - val_categorical_crossentropy: 2.1545\n",
            "\n",
            "Epoch 00016: saving model to training_1/cp.ckpt\n",
            "Epoch 17/50\n",
            "16560/16560 [==============================] - 122s 7ms/step - loss: 1.5773 - acc: 0.6158 - categorical_crossentropy: 1.5773 - val_loss: 2.1331 - val_acc: 0.6102 - val_categorical_crossentropy: 2.1331\n",
            "\n",
            "Epoch 00017: saving model to training_1/cp.ckpt\n",
            "Epoch 18/50\n",
            "16560/16560 [==============================] - 123s 7ms/step - loss: 1.5579 - acc: 0.6170 - categorical_crossentropy: 1.5579 - val_loss: 2.1507 - val_acc: 0.6143 - val_categorical_crossentropy: 2.1507\n",
            "\n",
            "Epoch 00018: saving model to training_1/cp.ckpt\n",
            "Epoch 19/50\n",
            "16560/16560 [==============================] - 123s 7ms/step - loss: 1.5269 - acc: 0.6246 - categorical_crossentropy: 1.5269 - val_loss: 2.1553 - val_acc: 0.6113 - val_categorical_crossentropy: 2.1553\n",
            "\n",
            "Epoch 00019: saving model to training_1/cp.ckpt\n",
            "Epoch 20/50\n",
            "16560/16560 [==============================] - 124s 7ms/step - loss: 1.5380 - acc: 0.6193 - categorical_crossentropy: 1.5380 - val_loss: 2.1510 - val_acc: 0.6164 - val_categorical_crossentropy: 2.1510\n",
            "\n",
            "Epoch 00020: saving model to training_1/cp.ckpt\n",
            "Epoch 21/50\n",
            "16560/16560 [==============================] - 123s 7ms/step - loss: 1.4929 - acc: 0.6273 - categorical_crossentropy: 1.4929 - val_loss: 2.1818 - val_acc: 0.6053 - val_categorical_crossentropy: 2.1818\n",
            "\n",
            "Epoch 00021: saving model to training_1/cp.ckpt\n",
            "Epoch 22/50\n",
            "16560/16560 [==============================] - 120s 7ms/step - loss: 1.4885 - acc: 0.6275 - categorical_crossentropy: 1.4885 - val_loss: 2.2236 - val_acc: 0.6046 - val_categorical_crossentropy: 2.2236\n",
            "\n",
            "Epoch 00022: saving model to training_1/cp.ckpt\n",
            "Epoch 23/50\n",
            "16560/16560 [==============================] - 118s 7ms/step - loss: 1.4558 - acc: 0.6322 - categorical_crossentropy: 1.4558 - val_loss: 2.1386 - val_acc: 0.6212 - val_categorical_crossentropy: 2.1386\n",
            "\n",
            "Epoch 00023: saving model to training_1/cp.ckpt\n",
            "Epoch 24/50\n",
            "16560/16560 [==============================] - 124s 7ms/step - loss: 1.4347 - acc: 0.6356 - categorical_crossentropy: 1.4347 - val_loss: 2.1260 - val_acc: 0.6271 - val_categorical_crossentropy: 2.1260\n",
            "\n",
            "Epoch 00024: saving model to training_1/cp.ckpt\n",
            "Epoch 25/50\n",
            "16560/16560 [==============================] - 122s 7ms/step - loss: 1.4452 - acc: 0.6331 - categorical_crossentropy: 1.4452 - val_loss: 2.1879 - val_acc: 0.6178 - val_categorical_crossentropy: 2.1879\n",
            "\n",
            "Epoch 00025: saving model to training_1/cp.ckpt\n",
            "Epoch 26/50\n",
            "16560/16560 [==============================] - 120s 7ms/step - loss: 1.4161 - acc: 0.6358 - categorical_crossentropy: 1.4161 - val_loss: 2.1368 - val_acc: 0.6255 - val_categorical_crossentropy: 2.1368\n",
            "\n",
            "Epoch 00026: saving model to training_1/cp.ckpt\n",
            "Epoch 27/50\n",
            "16560/16560 [==============================] - 122s 7ms/step - loss: 1.4098 - acc: 0.6382 - categorical_crossentropy: 1.4098 - val_loss: 2.1893 - val_acc: 0.6144 - val_categorical_crossentropy: 2.1893\n",
            "\n",
            "Epoch 00027: saving model to training_1/cp.ckpt\n",
            "Epoch 28/50\n",
            "16560/16560 [==============================] - 119s 7ms/step - loss: 1.4065 - acc: 0.6370 - categorical_crossentropy: 1.4065 - val_loss: 2.1395 - val_acc: 0.6274 - val_categorical_crossentropy: 2.1395\n",
            "\n",
            "Epoch 00028: saving model to training_1/cp.ckpt\n",
            "Epoch 29/50\n",
            "16560/16560 [==============================] - 119s 7ms/step - loss: 1.3959 - acc: 0.6374 - categorical_crossentropy: 1.3959 - val_loss: 2.1462 - val_acc: 0.6263 - val_categorical_crossentropy: 2.1462\n",
            "\n",
            "Epoch 00029: saving model to training_1/cp.ckpt\n",
            "Epoch 30/50\n",
            "16560/16560 [==============================] - 119s 7ms/step - loss: 1.3711 - acc: 0.6425 - categorical_crossentropy: 1.3711 - val_loss: 2.1322 - val_acc: 0.6231 - val_categorical_crossentropy: 2.1322\n",
            "\n",
            "Epoch 00030: saving model to training_1/cp.ckpt\n",
            "Epoch 31/50\n",
            "16560/16560 [==============================] - 122s 7ms/step - loss: 1.3616 - acc: 0.6446 - categorical_crossentropy: 1.3616 - val_loss: 2.1337 - val_acc: 0.6312 - val_categorical_crossentropy: 2.1337\n",
            "\n",
            "Epoch 00031: saving model to training_1/cp.ckpt\n",
            "Epoch 32/50\n",
            "16560/16560 [==============================] - 123s 7ms/step - loss: 1.3514 - acc: 0.6470 - categorical_crossentropy: 1.3514 - val_loss: 2.1770 - val_acc: 0.6199 - val_categorical_crossentropy: 2.1770\n",
            "\n",
            "Epoch 00032: saving model to training_1/cp.ckpt\n",
            "Epoch 33/50\n",
            "16560/16560 [==============================] - 121s 7ms/step - loss: 1.3293 - acc: 0.6514 - categorical_crossentropy: 1.3293 - val_loss: 2.1349 - val_acc: 0.6303 - val_categorical_crossentropy: 2.1349\n",
            "\n",
            "Epoch 00033: saving model to training_1/cp.ckpt\n",
            "Epoch 34/50\n",
            "16560/16560 [==============================] - 120s 7ms/step - loss: 1.3252 - acc: 0.6495 - categorical_crossentropy: 1.3252 - val_loss: 2.1566 - val_acc: 0.6302 - val_categorical_crossentropy: 2.1566\n",
            "\n",
            "Epoch 00034: saving model to training_1/cp.ckpt\n",
            "Epoch 35/50\n",
            "16560/16560 [==============================] - 122s 7ms/step - loss: 1.3248 - acc: 0.6519 - categorical_crossentropy: 1.3248 - val_loss: 2.1383 - val_acc: 0.6208 - val_categorical_crossentropy: 2.1383\n",
            "\n",
            "Epoch 00035: saving model to training_1/cp.ckpt\n",
            "Epoch 36/50\n",
            "16560/16560 [==============================] - 121s 7ms/step - loss: 1.3129 - acc: 0.6537 - categorical_crossentropy: 1.3129 - val_loss: 2.1286 - val_acc: 0.6327 - val_categorical_crossentropy: 2.1286\n",
            "\n",
            "Epoch 00036: saving model to training_1/cp.ckpt\n",
            "Epoch 37/50\n",
            "16560/16560 [==============================] - 119s 7ms/step - loss: 1.2967 - acc: 0.6519 - categorical_crossentropy: 1.2967 - val_loss: 2.1267 - val_acc: 0.6398 - val_categorical_crossentropy: 2.1267\n",
            "\n",
            "Epoch 00037: saving model to training_1/cp.ckpt\n",
            "Epoch 38/50\n",
            "16560/16560 [==============================] - 123s 7ms/step - loss: 1.3007 - acc: 0.6546 - categorical_crossentropy: 1.3007 - val_loss: 2.2042 - val_acc: 0.6196 - val_categorical_crossentropy: 2.2042\n",
            "\n",
            "Epoch 00038: saving model to training_1/cp.ckpt\n",
            "Epoch 39/50\n",
            "16560/16560 [==============================] - 123s 7ms/step - loss: 1.2973 - acc: 0.6538 - categorical_crossentropy: 1.2973 - val_loss: 2.1369 - val_acc: 0.6362 - val_categorical_crossentropy: 2.1369\n",
            "\n",
            "Epoch 00039: saving model to training_1/cp.ckpt\n",
            "Epoch 40/50\n",
            "16560/16560 [==============================] - 119s 7ms/step - loss: 1.2984 - acc: 0.6565 - categorical_crossentropy: 1.2984 - val_loss: 2.1551 - val_acc: 0.6348 - val_categorical_crossentropy: 2.1551\n",
            "\n",
            "Epoch 00040: saving model to training_1/cp.ckpt\n",
            "Epoch 41/50\n",
            "16560/16560 [==============================] - 120s 7ms/step - loss: 1.2891 - acc: 0.6551 - categorical_crossentropy: 1.2891 - val_loss: 2.1592 - val_acc: 0.6294 - val_categorical_crossentropy: 2.1592\n",
            "\n",
            "Epoch 00041: saving model to training_1/cp.ckpt\n",
            "Epoch 42/50\n",
            "16560/16560 [==============================] - 119s 7ms/step - loss: 1.2575 - acc: 0.6646 - categorical_crossentropy: 1.2575 - val_loss: 2.2627 - val_acc: 0.6088 - val_categorical_crossentropy: 2.2627\n",
            "\n",
            "Epoch 00042: saving model to training_1/cp.ckpt\n",
            "Epoch 43/50\n",
            "16560/16560 [==============================] - 119s 7ms/step - loss: 1.2819 - acc: 0.6545 - categorical_crossentropy: 1.2819 - val_loss: 2.1648 - val_acc: 0.6329 - val_categorical_crossentropy: 2.1648\n",
            "\n",
            "Epoch 00043: saving model to training_1/cp.ckpt\n",
            "Epoch 44/50\n",
            "16560/16560 [==============================] - 119s 7ms/step - loss: 1.3109 - acc: 0.6497 - categorical_crossentropy: 1.3109 - val_loss: 2.1512 - val_acc: 0.6369 - val_categorical_crossentropy: 2.1512\n",
            "\n",
            "Epoch 00044: saving model to training_1/cp.ckpt\n",
            "Epoch 45/50\n",
            "16560/16560 [==============================] - 119s 7ms/step - loss: 1.2463 - acc: 0.6609 - categorical_crossentropy: 1.2463 - val_loss: 2.1441 - val_acc: 0.6394 - val_categorical_crossentropy: 2.1441\n",
            "\n",
            "Epoch 00045: saving model to training_1/cp.ckpt\n",
            "Epoch 46/50\n",
            "16560/16560 [==============================] - 119s 7ms/step - loss: 1.2280 - acc: 0.6639 - categorical_crossentropy: 1.2280 - val_loss: 2.1427 - val_acc: 0.6411 - val_categorical_crossentropy: 2.1427\n",
            "\n",
            "Epoch 00046: saving model to training_1/cp.ckpt\n",
            "Epoch 47/50\n",
            "16560/16560 [==============================] - 122s 7ms/step - loss: 1.2328 - acc: 0.6637 - categorical_crossentropy: 1.2328 - val_loss: 2.1771 - val_acc: 0.6328 - val_categorical_crossentropy: 2.1771\n",
            "\n",
            "Epoch 00047: saving model to training_1/cp.ckpt\n",
            "Epoch 48/50\n",
            "16560/16560 [==============================] - 121s 7ms/step - loss: 1.2346 - acc: 0.6659 - categorical_crossentropy: 1.2346 - val_loss: 2.1572 - val_acc: 0.6398 - val_categorical_crossentropy: 2.1572\n",
            "\n",
            "Epoch 00048: saving model to training_1/cp.ckpt\n",
            "Epoch 49/50\n",
            "16560/16560 [==============================] - 122s 7ms/step - loss: 1.2194 - acc: 0.6646 - categorical_crossentropy: 1.2194 - val_loss: 2.2560 - val_acc: 0.6201 - val_categorical_crossentropy: 2.2560\n",
            "\n",
            "Epoch 00049: saving model to training_1/cp.ckpt\n",
            "Epoch 50/50\n",
            "16560/16560 [==============================] - 120s 7ms/step - loss: 1.2201 - acc: 0.6647 - categorical_crossentropy: 1.2201 - val_loss: 2.1663 - val_acc: 0.6366 - val_categorical_crossentropy: 2.1663\n",
            "\n",
            "Epoch 00050: saving model to training_1/cp.ckpt\n"
          ],
          "name": "stdout"
        }
      ]
    },
    {
      "cell_type": "code",
      "metadata": {
        "id": "S5a2sQvi9KUS",
        "colab_type": "code",
        "colab": {}
      },
      "source": [
        "model.save('my_model.h5')"
      ],
      "execution_count": 0,
      "outputs": []
    },
    {
      "cell_type": "code",
      "metadata": {
        "id": "ieeJCPM39N4f",
        "colab_type": "code",
        "outputId": "6c7767da-c486-491e-8868-9160381204fd",
        "colab": {
          "base_uri": "https://localhost:8080/",
          "height": 466
        }
      },
      "source": [
        "# Recreate the exact same model, including its weights and the optimizer\n",
        "model = tf.keras.models.load_model('my_model.h5')\n",
        "\n",
        "# Show the model architecture\n",
        "model.summary()"
      ],
      "execution_count": 0,
      "outputs": [
        {
          "output_type": "stream",
          "text": [
            "WARNING:tensorflow:From /usr/local/lib/python3.6/dist-packages/tensorflow_core/python/ops/resource_variable_ops.py:1630: calling BaseResourceVariable.__init__ (from tensorflow.python.ops.resource_variable_ops) with constraint is deprecated and will be removed in a future version.\n",
            "Instructions for updating:\n",
            "If using Keras pass *_constraint arguments to layers.\n",
            "WARNING:tensorflow:From /usr/local/lib/python3.6/dist-packages/tensorflow_core/python/ops/math_grad.py:1424: where (from tensorflow.python.ops.array_ops) is deprecated and will be removed in a future version.\n",
            "Instructions for updating:\n",
            "Use tf.where in 2.0, which has the same broadcast rule as np.where\n",
            "Model: \"sequential_1\"\n",
            "_________________________________________________________________\n",
            "Layer (type)                 Output Shape              Param #   \n",
            "=================================================================\n",
            "lstm_1 (LSTM)                (None, 3, 512)            1052672   \n",
            "_________________________________________________________________\n",
            "dropout_1 (Dropout)          (None, 3, 512)            0         \n",
            "_________________________________________________________________\n",
            "lstm_2 (LSTM)                (None, 512)               2099200   \n",
            "_________________________________________________________________\n",
            "dropout_2 (Dropout)          (None, 512)               0         \n",
            "_________________________________________________________________\n",
            "dense_1 (Dense)              (None, 1011)              518643    \n",
            "=================================================================\n",
            "Total params: 3,670,515\n",
            "Trainable params: 3,670,515\n",
            "Non-trainable params: 0\n",
            "_________________________________________________________________\n"
          ],
          "name": "stdout"
        }
      ]
    },
    {
      "cell_type": "code",
      "metadata": {
        "id": "i9CyAQuj0gx8",
        "colab_type": "code",
        "outputId": "2572a645-fd73-441e-9b33-498669934b47",
        "colab": {
          "base_uri": "https://localhost:8080/",
          "height": 626
        }
      },
      "source": [
        "plot_history([('baseline', histories)])"
      ],
      "execution_count": 44,
      "outputs": [
        {
          "output_type": "display_data",
          "data": {
            "image/png": "[encoded data removed]",
            "text/plain": [
              "<Figure size 1152x720 with 1 Axes>"
            ]
          },
          "metadata": {
            "tags": []
          }
        }
      ]
    },
    {
      "cell_type": "code",
      "metadata": {
        "id": "_QaD5lc5aM9f",
        "colab_type": "code",
        "colab": {}
      },
      "source": [
        "def generateTweet(fileN):\n",
        "  start = np.random.randint(0, len(initial_word)-1)\n",
        "  seed_text = initial_word[start]\n",
        "  #print(seed_text)\n",
        "  seed = [word_dict[word] for word in seed_text]\n",
        "  generatedTextList = ' '.join([str(elem) for elem in seed_text])\n",
        "  # print('generatedTextList 1:',generatedTextList) \n",
        "  flag = True\n",
        "  count=0\n",
        "\n",
        "  while (flag):\n",
        "    x = np.reshape(seed, (1, len(seed), 1))\n",
        "    x = x / float(len(set(total_words)))\n",
        "    prediction = model.predict(x, verbose=0)\n",
        "    index = np.argmax(prediction)\n",
        "    result = int_to_word[index]\n",
        "    generatedTextList += ' '+result\n",
        "    seq_in = [int_to_word[value] for value in seed]\n",
        "    seed.append(index)\n",
        "    seed = seed[1:len(seed)]\n",
        "    if result == \"\\n\" or count==15:\n",
        "        flag = False\n",
        "    count+=1\n",
        "\n",
        "  finalText = generatedTextList.replace('\\n','')\n",
        "  # print('generatedTextList 2 :',finalText) \n",
        "  finalText = finalText.replace('\\s','')\n",
        "  # print('generatedTextList 3:',finalText) \n",
        "  return finalText"
      ],
      "execution_count": 0,
      "outputs": []
    },
    {
      "cell_type": "code",
      "metadata": {
        "id": "4hPIEL7RiDL6",
        "colab_type": "code",
        "colab": {}
      },
      "source": [
        "initial_word, last_word = get_initial_last_Word(filename, seq)\n",
        "initial_word"
      ],
      "execution_count": 0,
      "outputs": []
    },
    {
      "cell_type": "code",
      "metadata": {
        "colab_type": "code",
        "id": "61RpLG1AaQVO",
        "colab": {
          "base_uri": "https://localhost:8080/",
          "height": 1000
        },
        "outputId": "3b29ecdf-60b0-4b84-8c49-774d3ef7539d"
      },
      "source": [
        "fileN=open(\"generatedText_bi_LSTM.txt\",\"w\")\n",
        "for i in range(500):\n",
        "  finalText = generateTweet(fileN)\n",
        "  print(i,\",\",finalText, file = fileN)\n",
        "  print('[{0}] {1}'.format(i,finalText))\n",
        "fileN.close()"
      ],
      "execution_count": 75,
      "outputs": [
        {
          "output_type": "stream",
          "text": [
            "[0] from ajc flyover connector has slowed down the traffic towards point \n",
            "[1] one goods vehicle pressure \n",
            "[2] sudden break down of a vehicle on maa flyover near no bridge has slowed down the traffic towards point\n",
            "[3] light pressure on ajc bose flyover near victoria south gate has slowed down the traffic towards point \n",
            "[4] removed the broken down vehicle on broken road near tea board has slowed down the traffic towards point \n",
            "[5] cbuses of picnic connector near gobinda pukur east has slowed down the traffic towards point \n",
            "[6] jl nehru road near kyd gardens flyover has slowed down the traffic towards point \n",
            "[7] the broken down vehicle on broken road near tea board has slowed down the traffic towards point \n",
            "[8] maa flyover west bound going \n",
            "[9] due to removal from has slowed down the traffic towards point \n",
            "[10] traffic is obstructed the traffic towards point \n",
            "[11] due to dispersal of \n",
            "[12] broken down trailer on broken road near tea board has slowed down the traffic towards point \n",
            "[13] circus avenue and ajc avenue near congress avenuebb ganguly khatik crossing near hazra slowed down the traffic towards point\n",
            "[14] break down of a vehicle on maa flyover near no bridge has slowed down the traffic towards point \n",
            "[15] break down of a vehicle on maa flyover near no bridge has slowed down the traffic towards point \n",
            "[16] maa flyover is heavy due to broken down vehicle on broken road near tea board has slowed down the\n",
            "[17] the sudden breakdown of a vehicle on maa flyover near no bridge has slowed down the traffic towards point\n",
            "[18] oil tanker which towards point \n",
            "[19] a volvo bus on elliot bypass near tagore road near taratala has slowed down the traffic towards point \n",
            "[20] slow movement of theatre bridge has slowed down the traffic towards point \n",
            "[21] due to dispersal of \n",
            "[22] there is moderate pressure on the traffic towards point \n",
            "[23] traffic towards point \n",
            "[24] break down of a vehicle on maa flyover near no bridge has slowed down the traffic towards point \n",
            "[25] the tata sumo \n",
            "[26] removed the broken down vehicle on broken road near tea board has slowed down the traffic towards point \n",
            "[27] traffic movement along bose flyover near victoria south gate has slowed down the traffic towards point \n",
            "[28] slow movement of theatre bridge has slowed down the traffic towards point \n",
            "[29] sudden break down of a vehicle on maa flyover near no bridge has slowed down the traffic towards point\n",
            "[30] removed the broken down vehicle on broken road near tea board has slowed down the traffic towards point \n",
            "[31] slow movement of theatre bridge has slowed down the traffic towards point \n",
            "[32] consequitively two broken down on a vehicle on maa flyover near no bridge has slowed down the traffic towards\n",
            "[33] beleghata road is diverted from atm alipore ali avenue near congress avenuebb ganguly khatik crossing near hazra slowed down\n",
            "[34] traffic surrounding hudco \n",
            "[35] traffic surrounding hudco \n",
            "[36] broken down vehicle on broken road near tea board has slowed down the traffic towards point \n",
            "[37] due to sudden breakdown of a vehicle on maa flyover near no bridge has slowed down the traffic towards\n",
            "[38] broken down vehiclealready on broken road near tea board has slowed down the traffic towards point \n",
            "[39] prince anwar shah road \n",
            "[40] breakdown of a vehicle on maa flyover near no bridge has slowed down the traffic towards point \n",
            "[41] due to a breakdown road flyover near camac street has slowed down the traffic towards point \n",
            "[42] broken down tram on broken road near tea board has slowed down the traffic towards point \n",
            "[43] tala bridge is \n",
            "[44] tala bridge is \n",
            "[45] sudden breakdown of a vehicle on maa flyover near no bridge has slowed down the traffic towards point \n",
            "[46] traffic of ajc bose flyover near victoria south gate has slowed down the traffic towards point \n",
            "[47] broken down tram on broken road near tea board has slowed down the traffic towards point \n",
            "[48] the sudden breakdown of a vehicle on maa flyover near no bridge has slowed down the traffic towards point\n",
            "[49] due to restoration from has slowed down the traffic towards point \n",
            "[50] traffic is partially obstructed on the same \n",
            "[51] dispersal of school and sudden breakdown on a vehicle on maa flyover near no bridge has slowed down the\n",
            "[52] traffic partially being road near from hastings slowed down the traffic towards point \n",
            "[53] moderate pressure on the traffic towards point \n",
            "[54] broken down vehicles on broken road near tea board has slowed down the traffic towards point \n",
            "[55] the sudden breakdown of a vehicle on maa flyover near no bridge has slowed down the traffic towards point\n",
            "[56] traffic on ajc bose flyover near victoria south gate has slowed down the traffic towards point \n",
            "[57] broken down vehicles on broken road near tea board has slowed down the traffic towards point \n",
            "[58] dh road nbound ekbalpore road crossing has slowed down the traffic towards point \n",
            "[59] pc connector east to a breakdown road flyover near camac street has slowed down the traffic towards point \n",
            "[60] traffic on ajc bose flyover near victoria south gate has slowed down the traffic towards point \n",
            "[61] the tata sumo \n",
            "[62] sn banerjee road near moti park has slowed down the traffic towards point \n",
            "[63] traffic is slow down to traffic towards point \n",
            "[64] ajc flyover ebound bound going jadulal mullick charu has slowed down the traffic towards point \n",
            "[65] ajc bose flyover near victoria south gate has slowed down the traffic towards point \n",
            "[66] broken down goods vehicle near fci bypass near tagore road near taratala has slowed down the traffic towards point\n",
            "[67] traffic is slowed down to traffic towards point \n",
            "[68] traffic is slowed down to traffic towards point \n",
            "[69] from ajc flyover connector has slowed down the traffic towards point \n",
            "[70] from ajc flyover connector has slowed down the traffic towards point \n",
            "[71] oil tanker which towards point \n",
            "[72] broken down vehicle on broken road near tea board has slowed down the traffic towards point \n",
            "[73] traffic of ajc bose flyover near victoria south gate has slowed down the traffic towards point \n",
            "[74] zeerut bridge north bound road near pts has slowed down the traffic towards point \n",
            "[75] traffic has been removed \n",
            "[76] kp ramp towards is slow down to traffic towards point \n",
            "[77] tala bridge is \n",
            "[78] the sudden breakdown of a vehicle on maa flyover near no bridge has slowed down the traffic towards point\n",
            "[79] moderate pressure on the traffic towards point \n",
            "[80] breakdown of couple of vehicles setu \n",
            "[81] beleghata road is diverted from atm alipore ali avenue near congress avenuebb ganguly khatik crossing near hazra slowed down\n",
            "[82] the matador which area has slowed down the traffic towards point \n",
            "[83] sudden breakdown of a vehicle on maa flyover near no bridge has slowed down the traffic towards point \n",
            "[84] dh road nbound ekbalpore road crossing has slowed down the traffic towards point \n",
            "[85] due to a breakdown road flyover near camac street has slowed down the traffic towards point \n",
            "[86] partial obstruction on the same \n",
            "[87] due to one broken road near tea board has slowed down the traffic towards point \n",
            "[88] traffic surrounding hudco \n",
            "[89] traffic is slow down to traffic towards point \n",
            "[90] sudden broken of a vehicle on maa flyover near no bridge has slowed down the traffic towards point \n",
            "[91] due to break down vehicle on broken road near tea board has slowed down the traffic towards point \n",
            "[92] traffic of ajc bose flyover near victoria south gate has slowed down the traffic towards point \n",
            "[93] sudden fire break \n",
            "[94] beleghata road is diverted from atm alipore ali avenue near congress avenuebb ganguly khatik crossing near hazra slowed down\n",
            "[95] due to dispersal of \n",
            "[96] circus avenue and ajc avenue near congress avenuebb ganguly khatik crossing near hazra slowed down the traffic towards point\n",
            "[97] ajc flyover ebound bound going jadulal mullick charu has slowed down the traffic towards point \n",
            "[98] light pressure on ajc bose flyover near victoria south gate has slowed down the traffic towards point \n",
            "[99] cbuses of picnic connector near gobinda pukur east has slowed down the traffic towards point \n",
            "[100] sn banerjee road near moti park has slowed down the traffic towards point \n",
            "[101] ajc flyover east bound going jadulal mullick charu has slowed down the traffic towards point \n",
            "[102] sudden break down of a vehicle on maa flyover near no bridge has slowed down the traffic towards point\n",
            "[103] ajc bose road flyover near camac street has slowed down the traffic towards point \n",
            "[104] due to one broken road near tea board has slowed down the traffic towards point \n",
            "[105] broken down vehicles on broken road near tea board has slowed down the traffic towards point \n",
            "[106] traffic partially obstructed maa flyover near no bridge has slowed down the traffic towards point \n",
            "[107] kp ramp towards is slow down to traffic towards point \n",
            "[108] the broken down vehicle on broken road near tea board has slowed down the traffic towards point \n",
            "[109] due to one broken road near tea board has slowed down the traffic towards point \n",
            "[110] from ajc flyover connector has slowed down the traffic towards point \n",
            "[111] maa flyover west bound going \n",
            "[112] there is moderate pressure on the traffic towards point \n",
            "[113] ajc bose road flyover near camac street has slowed down the traffic towards point \n",
            "[114] due to removal from has slowed down the traffic towards point \n",
            "[115] traffic is partially obstructed on the same \n",
            "[116] traffic is partially obstructed on the same \n",
            "[117] sn banerjee road near moti park has slowed down the traffic towards point \n",
            "[118] zeerut bridge north bound road near pts has slowed down the traffic towards point \n",
            "[119] moderate pressure on the traffic towards point \n",
            "[120] broken down vehicles on broken road near tea board has slowed down the traffic towards point \n",
            "[121] due to sudden breakdown of a vehicle on maa flyover near no bridge has slowed down the traffic towards\n",
            "[122] the broken down vehicle on broken road near tea board has slowed down the traffic towards point \n",
            "[123] breakdown of couple of vehicles setu \n",
            "[124] another breakdown of ajc vehicle on maa flyover near no bridge has slowed down the traffic towards point \n",
            "[125] the broken down vehicle on broken road near tea board has slowed down the traffic towards point \n",
            "[126] due to sudden breakdown of a vehicle on maa flyover near no bridge has slowed down the traffic towards\n",
            "[127] cbuses of picnic connector near gobinda pukur east has slowed down the traffic towards point \n",
            "[128] the broken down vehicle on broken road near tea board has slowed down the traffic towards point \n",
            "[129] traffic is slowed down to traffic towards point \n",
            "[130] the broken down vehicle on broken road near tea board has slowed down the traffic towards point \n",
            "[131] another breakdown of ajc vehicle on maa flyover near no bridge has slowed down the traffic towards point \n",
            "[132] from ajc flyover connector has slowed down the traffic towards point \n",
            "[133] taratala road west point crossing \n",
            "[134] partial obstruction on the same \n",
            "[135] taratala road west point crossing \n",
            "[136] due to sudden breakdown of a vehicle on maa flyover near no bridge has slowed down the traffic towards\n",
            "[137] broken down vehicle on broken road near tea board has slowed down the traffic towards point \n",
            "[138] pc connector east to a breakdown road flyover near camac street has slowed down the traffic towards point \n",
            "[139] from ajc flyover connector has slowed down the traffic towards point \n",
            "[140] ajc bose flyover near victoria south gate has slowed down the traffic towards point \n",
            "[141] jl nehru road near kyd gardens flyover has slowed down the traffic towards point \n",
            "[142] due to break down vehicle on broken road near tea board has slowed down the traffic towards point \n",
            "[143] sn banerjee road near moti park has slowed down the traffic towards point \n",
            "[144] broken down vehicle on broken road near tea board has slowed down the traffic towards point \n",
            "[145] maa flyover is heavy due to broken down vehicle on broken road near tea board has slowed down the\n",
            "[146] traffic movement along bose flyover near victoria south gate has slowed down the traffic towards point \n",
            "[147] broken down bus near hrbc has slowed down the traffic towards point \n",
            "[148] sudden breakdwon of a vehicle on maa flyover near no bridge has slowed down the traffic towards point \n",
            "[149] du to a breakdown road flyover near camac street has slowed down the traffic towards point \n",
            "[150] traffic on maa flyover near no bridge has slowed down the traffic towards point \n",
            "[151] jl nehru road near kyd gardens flyover has slowed down the traffic towards point \n",
            "[152] traffic is partially obstructed on the same \n",
            "[153] dispersal of school and sudden breakdown on a vehicle on maa flyover near no bridge has slowed down the\n",
            "[154] the breakdown vehicle traffic is \n",
            "[155] ajc flyover ebound bound going jadulal mullick charu has slowed down the traffic towards point \n",
            "[156] breakdown of couple of vehicles setu \n",
            "[157] alipore road north chetla road near khidirpore crossing has slowed down the traffic towards point \n",
            "[158] removed the broken down vehicle on broken road near tea board has slowed down the traffic towards point \n",
            "[159] sudden brake down of a vehicle on maa flyover near no bridge has slowed down the traffic towards point\n",
            "[160] a broken down vehicle on broken road near tea board has slowed down the traffic towards point \n",
            "[161] light pressure on ajc bose flyover near victoria south gate has slowed down the traffic towards point \n",
            "[162] another breakdown of ajc vehicle on maa flyover near no bridge has slowed down the traffic towards point \n",
            "[163] kp ramp towards is slow down to traffic towards point \n",
            "[164] beleghata road is diverted from atm alipore ali avenue near congress avenuebb ganguly khatik crossing near hazra slowed down\n",
            "[165] broken down bus near hrbc has slowed down the traffic towards point \n",
            "[166] prince anwar shah road \n",
            "[167] broken down vehiclealready on broken road near tea board has slowed down the traffic towards point \n",
            "[168] one goods vehicle pressure \n",
            "[169] dispersal of school and sudden breakdown on a vehicle on maa flyover near no bridge has slowed down the\n",
            "[170] broken down vehicles on broken road near tea board has slowed down the traffic towards point \n",
            "[171] traffic of em bypass near tagore road near taratala has slowed down the traffic towards point \n",
            "[172] the tata sumo \n",
            "[173] sudden break down of a vehicle on maa flyover near no bridge has slowed down the traffic towards point\n",
            "[174] the broken down vehicle on broken road near tea board has slowed down the traffic towards point \n",
            "[175] ajc bose road flyover near camac street has slowed down the traffic towards point \n",
            "[176] due to breakdown down vehicle on broken road near tea board has slowed down the traffic towards point \n",
            "[177] strand road is between diverted towards ganesh talkies on nandan hooghly bridge near hrbc has slowed down the traffic\n",
            "[178] traffic is obstructed the traffic towards point \n",
            "[179] a volvo bus on elliot bypass near tagore road near taratala has slowed down the traffic towards point \n",
            "[180] the matador which area has slowed down the traffic towards point \n",
            "[181] dh road nbound ekbalpore road crossing has slowed down the traffic towards point \n",
            "[182] kp ramp towards is slow down to traffic towards point \n",
            "[183] breakdown of a vehicle on maa flyover near no bridge has slowed down the traffic towards point \n",
            "[184] broken down vehiclealready on broken road near tea board has slowed down the traffic towards point \n",
            "[185] vidyasagar setu howrah bound \n",
            "[186] vidyasagar setu howrah bound \n",
            "[187] dh road nbound ekbalpore road crossing has slowed down the traffic towards point \n",
            "[188] removed the broken down vehicle on broken road near tea board has slowed down the traffic towards point \n",
            "[189] ajc flyover ebound bound going jadulal mullick charu has slowed down the traffic towards point \n",
            "[190] consequitively two broken down on a vehicle on maa flyover near no bridge has slowed down the traffic towards\n",
            "[191] traffic on maa flyover near no bridge has slowed down the traffic towards point \n",
            "[192] due to breakdown down vehicle on broken road near tea board has slowed down the traffic towards point \n",
            "[193] the broken down vehicle on broken road near tea board has slowed down the traffic towards point \n",
            "[194] due to removal from has slowed down the traffic towards point \n",
            "[195] one broken down vehicle on broken road near tea board has slowed down the traffic towards point \n",
            "[196] broken down vehicles on broken road near tea board has slowed down the traffic towards point \n",
            "[197] broken down vehicles on broken road near tea board has slowed down the traffic towards point \n",
            "[198] broken down tram on broken road near tea board has slowed down the traffic towards point \n",
            "[199] vidyasagar setu howrah bound \n",
            "[200] raffic update sudden crossing \n",
            "[201] the tata sumo \n",
            "[202] traffic movement along bose flyover near victoria south gate has slowed down the traffic towards point \n",
            "[203] sudden fire break \n",
            "[204] another breakdown of ajc vehicle on maa flyover near no bridge has slowed down the traffic towards point \n",
            "[205] tala bridge is \n",
            "[206] due to break down vehicle on broken road near tea board has slowed down the traffic towards point \n",
            "[207] breakdown of couple of vehicles setu \n",
            "[208] breakdown of a vehicle on maa flyover near no bridge has slowed down the traffic towards point \n",
            "[209] traffic partially being road near from hastings slowed down the traffic towards point \n",
            "[210] cbuses of picnic connector near gobinda pukur east has slowed down the traffic towards point \n",
            "[211] due to dispersal of \n",
            "[212] zeerut bridge north bound road near pts has slowed down the traffic towards point \n",
            "[213] vidyasagar setu howrah bound \n",
            "[214] cbuses of picnic connector near gobinda pukur east has slowed down the traffic towards point \n",
            "[215] there is moderate pressure on the traffic towards point \n",
            "[216] the sudden breakdown of a vehicle on maa flyover near no bridge has slowed down the traffic towards point\n",
            "[217] traffic on ajc bose flyover near victoria south gate has slowed down the traffic towards point \n",
            "[218] a volvo bus on elliot bypass near tagore road near taratala has slowed down the traffic towards point \n",
            "[219] slow movement of theatre bridge has slowed down the traffic towards point \n",
            "[220] strand road is between diverted towards ganesh talkies on nandan hooghly bridge near hrbc has slowed down the traffic\n",
            "[221] traffic of ajc bose flyover near victoria south gate has slowed down the traffic towards point \n",
            "[222] broken down vehicles on broken road near tea board has slowed down the traffic towards point \n",
            "[223] one broken down vehicle on broken road near tea board has slowed down the traffic towards point \n",
            "[224] du to a breakdown road flyover near camac street has slowed down the traffic towards point \n",
            "[225] due to sudden breakdown of a vehicle on maa flyover near no bridge has slowed down the traffic towards\n",
            "[226] traffic has been removed \n",
            "[227] a volvo bus on elliot bypass near tagore road near taratala has slowed down the traffic towards point \n",
            "[228] sudden breakdown of a vehicle on maa flyover near no bridge has slowed down the traffic towards point \n",
            "[229] east ward journey slow on ajc bose flyover near victoria south gate has slowed down the traffic towards point\n",
            "[230] there is moderate pressure on the traffic towards point \n",
            "[231] traffic partially obstructed maa flyover near no bridge has slowed down the traffic towards point \n",
            "[232] traffic is partially obstructed on the same \n",
            "[233] a broken down vehicle on broken road near tea board has slowed down the traffic towards point \n",
            "[234] another breakdown of ajc vehicle on maa flyover near no bridge has slowed down the traffic towards point \n",
            "[235] alipore road north chetla road near khidirpore crossing has slowed down the traffic towards point \n",
            "[236] traffic on maa flyover near no bridge has slowed down the traffic towards point \n",
            "[237] dispersal of school and sudden breakdown on a vehicle on maa flyover near no bridge has slowed down the\n",
            "[238] sudden brake down of a vehicle on maa flyover near no bridge has slowed down the traffic towards point\n",
            "[239] ajc flyover ebound bound going jadulal mullick charu has slowed down the traffic towards point \n",
            "[240] sudden break down of a vehicle on maa flyover near no bridge has slowed down the traffic towards point\n",
            "[241] traffic partially being road near from hastings slowed down the traffic towards point \n",
            "[242] dispersal of school and sudden breakdown on a vehicle on maa flyover near no bridge has slowed down the\n",
            "[243] breakdown of a vehicle on maa flyover near no bridge has slowed down the traffic towards point \n",
            "[244] broken down vehiclealready on broken road near tea board has slowed down the traffic towards point \n",
            "[245] zeerut bridge north bound road near pts has slowed down the traffic towards point \n",
            "[246] traffic movement along bose flyover near victoria south gate has slowed down the traffic towards point \n",
            "[247] traffic has been removed \n",
            "[248] traffic on ajc bose flyover near victoria south gate has slowed down the traffic towards point \n",
            "[249] traffic on maa flyover near no bridge has slowed down the traffic towards point \n",
            "[250] one goods vehicle pressure \n",
            "[251] ajc flyover east bound going jadulal mullick charu has slowed down the traffic towards point \n",
            "[252] pc connector east to a breakdown road flyover near camac street has slowed down the traffic towards point \n",
            "[253] ajc flyover ebound bound going jadulal mullick charu has slowed down the traffic towards point \n",
            "[254] traffic surrounding hudco \n",
            "[255] alipore road north chetla road near khidirpore crossing has slowed down the traffic towards point \n",
            "[256] sudden brake down of a vehicle on maa flyover near no bridge has slowed down the traffic towards point\n",
            "[257] light pressure on ajc bose flyover near victoria south gate has slowed down the traffic towards point \n",
            "[258] broken down vehicle on broken road near tea board has slowed down the traffic towards point \n",
            "[259] sudden fire break \n",
            "[260] broken down vehicle on broken road near tea board has slowed down the traffic towards point \n",
            "[261] broken down tram on broken road near tea board has slowed down the traffic towards point \n",
            "[262] vehicular traffic on the same \n",
            "[263] raffic update sudden crossing \n",
            "[264] maa flyover is heavy due to broken down vehicle on broken road near tea board has slowed down the\n",
            "[265] traffic is partially obstructed on the same \n",
            "[266] one goods vehicle pressure \n",
            "[267] ajc bose road flyover near camac street has slowed down the traffic towards point \n",
            "[268] break down of a vehicle on maa flyover near no bridge has slowed down the traffic towards point \n",
            "[269] sudden broken down of a vehicle on maa flyover near no bridge has slowed down the traffic towards point\n",
            "[270] due to removal from has slowed down the traffic towards point \n",
            "[271] alipore road north chetla road near khidirpore crossing has slowed down the traffic towards point \n",
            "[272] traffic partially being road near from hastings slowed down the traffic towards point \n",
            "[273] traffic partially being road near from hastings slowed down the traffic towards point \n",
            "[274] the matador which area has slowed down the traffic towards point \n",
            "[275] though broken down vehicle on broken road near tea board has slowed down the traffic towards point \n",
            "[276] strand road is between diverted towards ganesh talkies on nandan hooghly bridge near hrbc has slowed down the traffic\n",
            "[277] sudden broken down of a vehicle on maa flyover near no bridge has slowed down the traffic towards point\n",
            "[278] strand road is between diverted towards ganesh talkies on nandan hooghly bridge near hrbc has slowed down the traffic\n",
            "[279] du to a breakdown road flyover near camac street has slowed down the traffic towards point \n",
            "[280] sudden brake down of a vehicle on maa flyover near no bridge has slowed down the traffic towards point\n",
            "[281] due to sudden breakdown of a vehicle on maa flyover near no bridge has slowed down the traffic towards\n",
            "[282] traffic partially obstructed maa flyover near no bridge has slowed down the traffic towards point \n",
            "[283] traffic surrounding hudco \n",
            "[284] one broken down vehicle on broken road near tea board has slowed down the traffic towards point \n",
            "[285] due to dispersal of \n",
            "[286] traffic is slowed down to traffic towards point \n",
            "[287] the breakdown vehicle traffic is \n",
            "[288] sudden break down of a vehicle on maa flyover near no bridge has slowed down the traffic towards point\n",
            "[289] taratala road west point crossing \n",
            "[290] another breakdown of ajc vehicle on maa flyover near no bridge has slowed down the traffic towards point \n",
            "[291] the broken down vehicle on broken road near tea board has slowed down the traffic towards point \n",
            "[292] due to a breakdown road flyover near camac street has slowed down the traffic towards point \n",
            "[293] a broken down vehicle on broken road near tea board has slowed down the traffic towards point \n",
            "[294] oil tanker which towards point \n",
            "[295] from ajc flyover connector has slowed down the traffic towards point \n",
            "[296] due to breakdown down vehicle on broken road near tea board has slowed down the traffic towards point \n",
            "[297] ajc flyover east bound going jadulal mullick charu has slowed down the traffic towards point \n",
            "[298] pc connector east to a breakdown road flyover near camac street has slowed down the traffic towards point \n",
            "[299] one goods vehicle pressure \n",
            "[300] the broken down vehicle on broken road near tea board has slowed down the traffic towards point \n",
            "[301] due to removal from has slowed down the traffic towards point \n",
            "[302] moderate pressure on the traffic towards point \n",
            "[303] taratala road west point crossing \n",
            "[304] due to breakdown down vehicle on broken road near tea board has slowed down the traffic towards point \n",
            "[305] slow movement of theatre bridge has slowed down the traffic towards point \n",
            "[306] due to dispersal of \n",
            "[307] traffic is obstructed the traffic towards point \n",
            "[308] one goods vehicle pressure \n",
            "[309] breakdown of couple of vehicles setu \n",
            "[310] due to one broken road near tea board has slowed down the traffic towards point \n",
            "[311] due to breakdown down vehicle on broken road near tea board has slowed down the traffic towards point \n",
            "[312] traffic surrounding hudco \n",
            "[313] sudden brake down of a vehicle on maa flyover near no bridge has slowed down the traffic towards point\n",
            "[314] broken down tram on broken road near tea board has slowed down the traffic towards point \n",
            "[315] removed the broken down vehicle on broken road near tea board has slowed down the traffic towards point \n",
            "[316] due to break down vehicle on broken road near tea board has slowed down the traffic towards point \n",
            "[317] strand road is between diverted towards ganesh talkies on nandan hooghly bridge near hrbc has slowed down the traffic\n",
            "[318] slow movement of theatre bridge has slowed down the traffic towards point \n",
            "[319] taratala road west point crossing \n",
            "[320] sudden broken down of a vehicle on maa flyover near no bridge has slowed down the traffic towards point\n",
            "[321] beleghata road is diverted from atm alipore ali avenue near congress avenuebb ganguly khatik crossing near hazra slowed down\n",
            "[322] prince anwar shah road \n",
            "[323] breakdown of a vehicle on maa flyover near no bridge has slowed down the traffic towards point \n",
            "[324] the matador which area has slowed down the traffic towards point \n",
            "[325] sudden fire break \n",
            "[326] maa flyover west bound going \n",
            "[327] beleghata road is diverted from atm alipore ali avenue near congress avenuebb ganguly khatik crossing near hazra slowed down\n",
            "[328] the tata sumo \n",
            "[329] sn banerjee road near moti park has slowed down the traffic towards point \n",
            "[330] one broken down vehicle on broken road near tea board has slowed down the traffic towards point \n",
            "[331] moderate pressure on the traffic towards point \n",
            "[332] though broken down vehicle on broken road near tea board has slowed down the traffic towards point \n",
            "[333] dh road nbound ekbalpore road crossing has slowed down the traffic towards point \n",
            "[334] kp ramp towards is slow down to traffic towards point \n",
            "[335] pc connector east to a breakdown road flyover near camac street has slowed down the traffic towards point \n",
            "[336] due to dispersal of \n",
            "[337] sn banerjee road near moti park has slowed down the traffic towards point \n",
            "[338] due to one broken road near tea board has slowed down the traffic towards point \n",
            "[339] traffic of ajc bose flyover near victoria south gate has slowed down the traffic towards point \n",
            "[340] the matador which area has slowed down the traffic towards point \n",
            "[341] circus avenue and ajc avenue near congress avenuebb ganguly khatik crossing near hazra slowed down the traffic towards point\n",
            "[342] prince anwar shah road \n",
            "[343] due to one broken road near tea board has slowed down the traffic towards point \n",
            "[344] broken down vehiclealready on broken road near tea board has slowed down the traffic towards point \n",
            "[345] traffic surrounding hudco \n",
            "[346] east ward journey slow on ajc bose flyover near victoria south gate has slowed down the traffic towards point\n",
            "[347] strand road is between diverted towards ganesh talkies on nandan hooghly bridge near hrbc has slowed down the traffic\n",
            "[348] raffic update sudden crossing \n",
            "[349] breakdown vehicle near hazra road has slowed down the traffic towards point \n",
            "[350] due to broken down vehicle on broken road near tea board has slowed down the traffic towards point \n",
            "[351] the tata sumo \n",
            "[352] ajc bose flyover near victoria south gate has slowed down the traffic towards point \n",
            "[353] traffic towards point \n",
            "[354] ajc flyover east bound going jadulal mullick charu has slowed down the traffic towards point \n",
            "[355] taratala road west point crossing \n",
            "[356] traffic is obstructed the traffic towards point \n",
            "[357] circus avenue and ajc avenue near congress avenuebb ganguly khatik crossing near hazra slowed down the traffic towards point\n",
            "[358] ajc bose road flyover near camac street has slowed down the traffic towards point \n",
            "[359] broken down tram on broken road near tea board has slowed down the traffic towards point \n",
            "[360] breakdown vehicle near hazra road has slowed down the traffic towards point \n",
            "[361] due to broken down vehicle on broken road near tea board has slowed down the traffic towards point \n",
            "[362] another breakdown of ajc vehicle on maa flyover near no bridge has slowed down the traffic towards point \n",
            "[363] partial obstruction on the same \n",
            "[364] due to removal from has slowed down the traffic towards point \n",
            "[365] maa flyover west bound going \n",
            "[366] breakdown of couple of vehicles setu \n",
            "[367] removed the broken down vehicle on broken road near tea board has slowed down the traffic towards point \n",
            "[368] cbuses of picnic connector near gobinda pukur east has slowed down the traffic towards point \n",
            "[369] due to a breakdown road flyover near camac street has slowed down the traffic towards point \n",
            "[370] the broken down vehicle on broken road near tea board has slowed down the traffic towards point \n",
            "[371] jl nehru road near kyd gardens flyover has slowed down the traffic towards point \n",
            "[372] strand road is between diverted towards ganesh talkies on nandan hooghly bridge near hrbc has slowed down the traffic\n",
            "[373] the breakdown vehicle traffic is \n",
            "[374] sudden brake down of a vehicle on maa flyover near no bridge has slowed down the traffic towards point\n",
            "[375] alipore road north chetla road near khidirpore crossing has slowed down the traffic towards point \n",
            "[376] raffic update sudden crossing \n",
            "[377] pc connector east to a breakdown road flyover near camac street has slowed down the traffic towards point \n",
            "[378] maa flyover is heavy due to broken down vehicle on broken road near tea board has slowed down the\n",
            "[379] the matador which area has slowed down the traffic towards point \n",
            "[380] due to broken down vehicle on broken road near tea board has slowed down the traffic towards point \n",
            "[381] ajc flyover east bound going jadulal mullick charu has slowed down the traffic towards point \n",
            "[382] ajc flyover east bound going jadulal mullick charu has slowed down the traffic towards point \n",
            "[383] ajc flyover east bound going jadulal mullick charu has slowed down the traffic towards point \n",
            "[384] broken down trailer on broken road near tea board has slowed down the traffic towards point \n",
            "[385] though broken down vehicle on broken road near tea board has slowed down the traffic towards point \n",
            "[386] though broken down vehicle on broken road near tea board has slowed down the traffic towards point \n",
            "[387] consequitively two broken down on a vehicle on maa flyover near no bridge has slowed down the traffic towards\n",
            "[388] breakdown vehicle near hazra road has slowed down the traffic towards point \n",
            "[389] traffic is partially obstructed on the same \n",
            "[390] one goods vehicle pressure \n",
            "[391] the broken down vehicle on broken road near tea board has slowed down the traffic towards point \n",
            "[392] the sudden breakdown of a vehicle on maa flyover near no bridge has slowed down the traffic towards point\n",
            "[393] dh road nbound ekbalpore road crossing has slowed down the traffic towards point \n",
            "[394] traffic partially obstructed maa flyover near no bridge has slowed down the traffic towards point \n",
            "[395] broken down vehicle on broken road near tea board has slowed down the traffic towards point \n",
            "[396] traffic on ajc bose flyover near victoria south gate has slowed down the traffic towards point \n",
            "[397] ajc flyover east bound going jadulal mullick charu has slowed down the traffic towards point \n",
            "[398] light pressure on ajc bose flyover near victoria south gate has slowed down the traffic towards point \n",
            "[399] traffic partially obstructed maa flyover near no bridge has slowed down the traffic towards point \n",
            "[400] vehicular traffic on the same \n",
            "[401] vehicular traffic on the same \n",
            "[402] breakdown of a vehicle on maa flyover near no bridge has slowed down the traffic towards point \n",
            "[403] traffic is slow down to traffic towards point \n",
            "[404] circus avenue and ajc avenue near congress avenuebb ganguly khatik crossing near hazra slowed down the traffic towards point\n",
            "[405] broken down trailer on broken road near tea board has slowed down the traffic towards point \n",
            "[406] broken down bus near hrbc has slowed down the traffic towards point \n",
            "[407] traffic is partially obstructed on the same \n",
            "[408] zeerut bridge north bound road near pts has slowed down the traffic towards point \n",
            "[409] tala bridge is \n",
            "[410] traffic has been removed \n",
            "[411] though broken down vehicle on broken road near tea board has slowed down the traffic towards point \n",
            "[412] traffic towards point \n",
            "[413] maa flyover is heavy due to broken down vehicle on broken road near tea board has slowed down the\n",
            "[414] vehicular traffic on the same \n",
            "[415] due to sudden breakdown of a vehicle on maa flyover near no bridge has slowed down the traffic towards\n",
            "[416] partial obstruction on the same \n",
            "[417] prince anwar shah road \n",
            "[418] ajc bose flyover near victoria south gate has slowed down the traffic towards point \n",
            "[419] zeerut bridge north bound road near pts has slowed down the traffic towards point \n",
            "[420] breakdown of a vehicle on maa flyover near no bridge has slowed down the traffic towards point \n",
            "[421] sudden breakdown of a vehicle on maa flyover near no bridge has slowed down the traffic towards point \n",
            "[422] broken down tram on broken road near tea board has slowed down the traffic towards point \n",
            "[423] tala bridge is \n",
            "[424] traffic is partially obstructed on the same \n",
            "[425] traffic partially being road near from hastings slowed down the traffic towards point \n",
            "[426] broken down bus near hrbc has slowed down the traffic towards point \n",
            "[427] kp ramp towards is slow down to traffic towards point \n",
            "[428] one goods vehicle pressure \n",
            "[429] partial obstruction on the same \n",
            "[430] jl nehru road near kyd gardens flyover has slowed down the traffic towards point \n",
            "[431] removed the broken down vehicle on broken road near tea board has slowed down the traffic towards point \n",
            "[432] due to dispersal of \n",
            "[433] ajc flyover ebound bound going jadulal mullick charu has slowed down the traffic towards point \n",
            "[434] prince anwar shah road \n",
            "[435] traffic on maa flyover near no bridge has slowed down the traffic towards point \n",
            "[436] ajc flyover ebound bound going jadulal mullick charu has slowed down the traffic towards point \n",
            "[437] due to restoration from has slowed down the traffic towards point \n",
            "[438] due to restoration from has slowed down the traffic towards point \n",
            "[439] the tata sumo \n",
            "[440] circus avenue and ajc avenue near congress avenuebb ganguly khatik crossing near hazra slowed down the traffic towards point\n",
            "[441] dh road nbound ekbalpore road crossing has slowed down the traffic towards point \n",
            "[442] sudden broken down of a vehicle on maa flyover near no bridge has slowed down the traffic towards point\n",
            "[443] slow movement of theatre bridge has slowed down the traffic towards point \n",
            "[444] due to sudden breakdown of a vehicle on maa flyover near no bridge has slowed down the traffic towards\n",
            "[445] there is moderate pressure on the traffic towards point \n",
            "[446] slow movement of theatre bridge has slowed down the traffic towards point \n",
            "[447] sudden break down of a vehicle on maa flyover near no bridge has slowed down the traffic towards point\n",
            "[448] zeerut bridge north bound road near pts has slowed down the traffic towards point \n",
            "[449] jl nehru road near kyd gardens flyover has slowed down the traffic towards point \n",
            "[450] traffic is obstructed the traffic towards point \n",
            "[451] raffic update sudden crossing \n",
            "[452] traffic on ajc bose flyover near victoria south gate has slowed down the traffic towards point \n",
            "[453] sudden break down of a vehicle on maa flyover near no bridge has slowed down the traffic towards point\n",
            "[454] dispersal of school and sudden breakdown on a vehicle on maa flyover near no bridge has slowed down the\n",
            "[455] due to restoration from has slowed down the traffic towards point \n",
            "[456] due to dispersal of \n",
            "[457] broken down vehicle on broken road near tea board has slowed down the traffic towards point \n",
            "[458] ajc flyover ebound bound going jadulal mullick charu has slowed down the traffic towards point \n",
            "[459] traffic is slow down to traffic towards point \n",
            "[460] broken down vehicle on broken road near tea board has slowed down the traffic towards point \n",
            "[461] sudden broken of a vehicle on maa flyover near no bridge has slowed down the traffic towards point \n",
            "[462] break down of a vehicle on maa flyover near no bridge has slowed down the traffic towards point \n",
            "[463] ajc bose flyover near victoria south gate has slowed down the traffic towards point \n",
            "[464] traffic is slow down to traffic towards point \n",
            "[465] sudden broken down of a vehicle on maa flyover near no bridge has slowed down the traffic towards point\n",
            "[466] dh road nbound ekbalpore road crossing has slowed down the traffic towards point \n",
            "[467] sudden brake down of a vehicle on maa flyover near no bridge has slowed down the traffic towards point\n",
            "[468] tala bridge is \n",
            "[469] due to broken down vehicle on broken road near tea board has slowed down the traffic towards point \n",
            "[470] traffic partially obstructed maa flyover near no bridge has slowed down the traffic towards point \n",
            "[471] traffic towards point \n",
            "[472] a volvo bus on elliot bypass near tagore road near taratala has slowed down the traffic towards point \n",
            "[473] one broken down vehicle on broken road near tea board has slowed down the traffic towards point \n",
            "[474] a broken down vehicle on broken road near tea board has slowed down the traffic towards point \n",
            "[475] sudden breakdwon of a vehicle on maa flyover near no bridge has slowed down the traffic towards point \n",
            "[476] breakdown of couple of vehicles setu \n",
            "[477] the sudden breakdown of a vehicle on maa flyover near no bridge has slowed down the traffic towards point\n",
            "[478] though broken down vehicle on broken road near tea board has slowed down the traffic towards point \n",
            "[479] the sudden breakdown of a vehicle on maa flyover near no bridge has slowed down the traffic towards point\n",
            "[480] breakdown vehicle near hazra road has slowed down the traffic towards point \n",
            "[481] traffic of em bypass near tagore road near taratala has slowed down the traffic towards point \n",
            "[482] sudden brake down of a vehicle on maa flyover near no bridge has slowed down the traffic towards point\n",
            "[483] breakdown vehicle near hazra road has slowed down the traffic towards point \n",
            "[484] sudden breakdwon of a vehicle on maa flyover near no bridge has slowed down the traffic towards point \n",
            "[485] pc connector east to a breakdown road flyover near camac street has slowed down the traffic towards point \n",
            "[486] sudden breakdown of a vehicle on maa flyover near no bridge has slowed down the traffic towards point \n",
            "[487] there is moderate pressure on the traffic towards point \n",
            "[488] dispersal of school and sudden breakdown on a vehicle on maa flyover near no bridge has slowed down the\n",
            "[489] traffic of em bypass near tagore road near taratala has slowed down the traffic towards point \n",
            "[490] traffic has been removed \n",
            "[491] breakdown of a vehicle on maa flyover near no bridge has slowed down the traffic towards point \n",
            "[492] broken down vehicles on broken road near tea board has slowed down the traffic towards point \n",
            "[493] broken down goods vehicle near fci bypass near tagore road near taratala has slowed down the traffic towards point\n",
            "[494] the broken down vehicle on broken road near tea board has slowed down the traffic towards point \n",
            "[495] partial obstruction on the same \n",
            "[496] due to breakdown down vehicle on broken road near tea board has slowed down the traffic towards point \n",
            "[497] ajc bose road flyover near camac street has slowed down the traffic towards point \n",
            "[498] sudden breakdwon of a vehicle on maa flyover near no bridge has slowed down the traffic towards point \n",
            "[499] breakdown of a vehicle on maa flyover near no bridge has slowed down the traffic towards point \n"
          ],
          "name": "stdout"
        }
      ]
    },
    {
      "cell_type": "code",
      "metadata": {
        "id": "qsyU0ZvPukUw",
        "colab_type": "code",
        "colab": {}
      },
      "source": [
        "import numpy as np\n",
        "from sklearn.model_selection import KFold\n",
        "\n",
        "X = np.array([[1, 2], [3, 4], [1, 2], [3, 4]])\n",
        "y = np.array([1, 2, 3, 4])\n",
        "kf = KFold(n_splits=2)\n",
        "kf.get_n_splits(X)"
      ],
      "execution_count": 0,
      "outputs": []
    }
  ]
}